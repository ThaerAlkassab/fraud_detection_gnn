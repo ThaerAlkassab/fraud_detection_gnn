{
 "cells": [
  {
   "cell_type": "markdown",
   "id": "fd00ccf4",
   "metadata": {},
   "source": [
    "# Credit Card Fraud Detection using GNN and XAI"
   ]
  },
  {
   "cell_type": "code",
   "execution_count": null,
   "id": "e5dee125",
   "metadata": {},
   "outputs": [],
   "source": [
    "\n",
    "# Import necessary libraries\n",
    "import pandas as pd\n",
    "import torch\n",
    "from torch_geometric.data import Data\n",
    "from sklearn.preprocessing import StandardScaler\n",
    "from src.models.gearsage import GEARSage\n",
    "from src.models.tgat import TGAT\n",
    "from sklearn.metrics import roc_auc_score\n",
    "import matplotlib.pyplot as plt\n",
    "import seaborn as sns\n"
   ]
  },
  {
   "cell_type": "markdown",
   "id": "317f30f6",
   "metadata": {},
   "source": [
    "## 1. Data Loading and Preprocessing"
   ]
  },
  {
   "cell_type": "code",
   "execution_count": null,
   "id": "24740f0c",
   "metadata": {},
   "outputs": [],
   "source": [
    "\n",
    "# Load the dataset\n",
    "file_path = 'data/creditcard.csv'\n",
    "data = pd.read_csv(file_path)\n",
    "\n",
    "# Preprocess the data: Normalize 'Amount' and drop unnecessary columns\n",
    "data['normAmount'] = StandardScaler().fit_transform(data['Amount'].values.reshape(-1, 1))\n",
    "data = data.drop(['Time', 'Amount'], axis=1)\n",
    "\n",
    "# Prepare Features (X) and Labels (y)\n",
    "X = data.drop(['Class'], axis=1).values\n",
    "y = data['Class'].values\n",
    "\n",
    "# Convert to PyTorch Geometric Data object\n",
    "X_tensor = torch.tensor(X, dtype=torch.float)\n",
    "y_tensor = torch.tensor(y, dtype=torch.long)\n",
    "graph_data = Data(x=X_tensor, y=y_tensor)\n"
   ]
  },
  {
   "cell_type": "markdown",
   "id": "fdff0821",
   "metadata": {},
   "source": [
    "## 2. Data Exploration"
   ]
  },
  {
   "cell_type": "code",
   "execution_count": null,
   "id": "f57c25b1",
   "metadata": {},
   "outputs": [],
   "source": [
    "\n",
    "# 1. Fraud vs Non-Fraud Distribution\n",
    "plt.figure(figsize=(6,4))\n",
    "sns.countplot(x='Class', data=data)\n",
    "plt.title(\"Fraud vs Non-Fraud Transaction Distribution\")\n",
    "plt.xlabel(\"Transaction Class (0 = Non-Fraud, 1 = Fraud)\")\n",
    "plt.ylabel(\"Count\")\n",
    "plt.show()\n",
    "\n",
    "# 2. Plot Distribution of the Amount Feature\n",
    "plt.figure(figsize=(6,4))\n",
    "sns.histplot(data['normAmount'], bins=50, kde=True)\n",
    "plt.title(\"Distribution of Normalized Transaction Amounts\")\n",
    "plt.xlabel(\"Normalized Amount\")\n",
    "plt.ylabel(\"Count\")\n",
    "plt.show()\n",
    "\n",
    "# 3. Correlation Heatmap (Only for features V1 to V28)\n",
    "plt.figure(figsize=(14,8))\n",
    "corr_matrix = data.drop(['Class'], axis=1).corr()\n",
    "sns.heatmap(corr_matrix, annot=False, cmap='coolwarm')\n",
    "plt.title(\"Correlation Heatmap of PCA Features (V1 to V28)\")\n",
    "plt.show()\n"
   ]
  },
  {
   "cell_type": "markdown",
   "id": "86bda26f",
   "metadata": {},
   "source": [
    "## 3. Model Selection and Training"
   ]
  },
  {
   "cell_type": "code",
   "execution_count": null,
   "id": "610633fe",
   "metadata": {},
   "outputs": [],
   "source": [
    "\n",
    "# Choose the model: GEARSage or TGAT\n",
    "model = GEARSage(in_channels=X.shape[1], hidden_channels=64, out_channels=2)\n",
    "# model = TGAT(in_channels=X.shape[1], hidden_channels=64, out_channels=2)\n",
    "\n",
    "# Training Function with AUC and Time per Epoch\n",
    "import time\n",
    "def train_with_timing(model, data, epochs=10):\n",
    "    times = []\n",
    "    auc_scores = []\n",
    "\n",
    "    optimizer = torch.optim.Adam(model.parameters(), lr=0.001)\n",
    "    loss_fn = torch.nn.CrossEntropyLoss()\n",
    "\n",
    "    for epoch in range(epochs):\n",
    "        start_time = time.time()\n",
    "        model.train()\n",
    "        optimizer.zero_grad()\n",
    "        out = model(data)\n",
    "        loss = loss_fn(out, data.y)\n",
    "        loss.backward()\n",
    "        optimizer.step()\n",
    "        end_time = time.time()\n",
    "\n",
    "        epoch_time = end_time - start_time\n",
    "        times.append(epoch_time)\n",
    "\n",
    "        auc = roc_auc_score(data.y.cpu().numpy(), out.detach().cpu().numpy()[:, 1])\n",
    "        auc_scores.append(auc)\n",
    "\n",
    "        print(f\"Epoch {epoch+1}, Loss: {loss.item()}, AUC: {auc}, Time: {epoch_time:.2f} seconds\")\n",
    "    \n",
    "    return times, auc_scores\n",
    "\n",
    "# Train the model and capture the times and AUC scores\n",
    "times, auc_scores = train_with_timing(model, graph_data, epochs=10)\n"
   ]
  },
  {
   "cell_type": "markdown",
   "id": "59ebff9d",
   "metadata": {},
   "source": [
    "## 4. Time and AUC per Epoch"
   ]
  },
  {
   "cell_type": "code",
   "execution_count": null,
   "id": "ae9149af",
   "metadata": {},
   "outputs": [],
   "source": [
    "\n",
    "# Plot Time per Epoch\n",
    "plt.figure(figsize=(6,4))\n",
    "sns.lineplot(x=range(1, len(times) + 1), y=times)\n",
    "plt.title(\"Time Taken Per Epoch\")\n",
    "plt.xlabel(\"Epoch\")\n",
    "plt.ylabel(\"Time (seconds)\")\n",
    "plt.show()\n",
    "\n",
    "# Plot AUC per Epoch\n",
    "plt.figure(figsize=(6,4))\n",
    "sns.lineplot(x=range(1, len(auc_scores) + 1), y=auc_scores)\n",
    "plt.title(\"AUC Score Per Epoch\")\n",
    "plt.xlabel(\"Epoch\")\n",
    "plt.ylabel(\"AUC Score\")\n",
    "plt.show()\n"
   ]
  },
  {
   "cell_type": "markdown",
   "id": "f096c20a",
   "metadata": {},
   "source": [
    "## 5. Confusion Matrix"
   ]
  },
  {
   "cell_type": "code",
   "execution_count": null,
   "id": "ba355be8",
   "metadata": {},
   "outputs": [],
   "source": [
    "\n",
    "from sklearn.metrics import confusion_matrix\n",
    "\n",
    "def plot_confusion_matrix(model, data):\n",
    "    model.eval()\n",
    "    with torch.no_grad():\n",
    "        out = model(data)\n",
    "        y_pred = torch.argmax(out, dim=1).cpu().numpy()\n",
    "        y_true = data.y.cpu().numpy()\n",
    "        \n",
    "        cm = confusion_matrix(y_true, y_pred)\n",
    "        sns.heatmap(cm, annot=True, fmt='d', cmap='Blues', cbar=False)\n",
    "        plt.title(\"Confusion Matrix\")\n",
    "        plt.xlabel(\"Predicted Label\")\n",
    "        plt.ylabel(\"True Label\")\n",
    "        plt.show()\n",
    "\n",
    "# Plot confusion matrix\n",
    "plot_confusion_matrix(model, graph_data)\n"
   ]
  },
  {
   "cell_type": "markdown",
   "id": "a9b0a2f5",
   "metadata": {},
   "source": [
    "## 6. Precision-Recall Curve"
   ]
  },
  {
   "cell_type": "code",
   "execution_count": null,
   "id": "22d335ab",
   "metadata": {},
   "outputs": [],
   "source": [
    "\n",
    "from sklearn.metrics import precision_recall_curve\n",
    "\n",
    "def plot_precision_recall_curve(model, data):\n",
    "    model.eval()\n",
    "    with torch.no_grad():\n",
    "        out = model(data)\n",
    "        y_true = data.y.cpu().numpy()\n",
    "        y_pred = out.cpu().numpy()[:, 1]\n",
    "        \n",
    "        precision, recall, _ = precision_recall_curve(y_true, y_pred)\n",
    "\n",
    "        plt.plot(recall, precision, marker='.')\n",
    "        plt.title(\"Precision-Recall Curve\")\n",
    "        plt.xlabel(\"Recall\")\n",
    "        plt.ylabel(\"Precision\")\n",
    "        plt.show()\n",
    "\n",
    "# Plot precision-recall curve\n",
    "plot_precision_recall_curve(model, graph_data)\n"
   ]
  },
  {
   "cell_type": "markdown",
   "id": "fe79c4bd",
   "metadata": {},
   "source": [
    "## 7. ROC Curve"
   ]
  },
  {
   "cell_type": "code",
   "execution_count": null,
   "id": "70c278b1",
   "metadata": {},
   "outputs": [],
   "source": [
    "\n",
    "from sklearn.metrics import roc_curve\n",
    "\n",
    "def plot_roc_curve(model, data):\n",
    "    model.eval()\n",
    "    with torch.no_grad():\n",
    "        out = model(data)\n",
    "        y_true = data.y.cpu().numpy()\n",
    "        y_pred = out.cpu().numpy()[:, 1]\n",
    "\n",
    "        fpr, tpr, _ = roc_curve(y_true, y_pred)\n",
    "        plt.plot(fpr, tpr, marker='.')\n",
    "        plt.title(\"ROC Curve for Fraud Detection\")\n",
    "        plt.xlabel(\"False Positive Rate\")\n",
    "        plt.ylabel(\"True Positive Rate\")\n",
    "        plt.show()\n",
    "\n",
    "# Plot ROC curve\n",
    "plot_roc_curve(model, graph_data)\n"
   ]
  },
  {
   "cell_type": "markdown",
   "id": "9d5d00b2",
   "metadata": {},
   "source": [
    "## 8. Loss per Epoch"
   ]
  },
  {
   "cell_type": "code",
   "execution_count": null,
   "id": "46b75b6e",
   "metadata": {},
   "outputs": [],
   "source": [
    "\n",
    "def train_with_loss(model, data, epochs=10):\n",
    "    losses = []\n",
    "    auc_scores = []\n",
    "\n",
    "    optimizer = torch.optim.Adam(model.parameters(), lr=0.001)\n",
    "    loss_fn = torch.nn.CrossEntropyLoss()\n",
    "\n",
    "    for epoch in range(epochs):\n",
    "        model.train()\n",
    "        optimizer.zero_grad()\n",
    "        out = model(data)\n",
    "        loss = loss_fn(out, data.y)\n",
    "        loss.backward()\n",
    "        optimizer.step()\n",
    "\n",
    "        losses.append(loss.item())\n",
    "\n",
    "        auc = roc_auc_score(data.y.cpu().numpy(), out.detach().cpu().numpy()[:, 1])\n",
    "        auc_scores.append(auc)\n",
    "\n",
    "        print(f\"Epoch {epoch+1}, Loss: {loss.item()}, AUC: {auc}\")\n",
    "    \n",
    "    return losses, auc_scores\n",
    "\n",
    "# Train and capture the loss and AUC\n",
    "losses, auc_scores = train_with_loss(model, graph_data, epochs=10)\n",
    "\n",
    "# Plot Loss per Epoch\n",
    "plt.figure(figsize=(6,4))\n",
    "sns.lineplot(x=range(1, len(losses) + 1), y=losses)\n",
    "plt.title(\"Loss Per Epoch\")\n",
    "plt.xlabel(\"Epoch\")\n",
    "plt.ylabel(\"Loss\")\n",
    "plt.show()\n"
   ]
  }
 ],
 "metadata": {},
 "nbformat": 4,
 "nbformat_minor": 5
}
