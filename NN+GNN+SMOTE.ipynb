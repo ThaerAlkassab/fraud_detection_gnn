{
  "metadata": {
    "kernelspec": {
      "display_name": "Python 3",
      "name": "python3"
    },
    "language_info": {
      "name": "python",
      "version": "3.10.14",
      "mimetype": "text/x-python",
      "codemirror_mode": {
        "name": "ipython",
        "version": 3
      },
      "pygments_lexer": "ipython3",
      "nbconvert_exporter": "python",
      "file_extension": ".py"
    },
    "kaggle": {
      "accelerator": "nvidiaTeslaT4",
      "dataSources": [
        {
          "sourceId": 2705785,
          "sourceType": "datasetVersion",
          "datasetId": 1478095
        }
      ],
      "dockerImageVersionId": 30786,
      "isInternetEnabled": true,
      "language": "python",
      "sourceType": "notebook",
      "isGpuEnabled": true
    },
    "colab": {
      "provenance": [],
      "gpuType": "T4",
      "include_colab_link": true
    },
    "accelerator": "GPU"
  },
  "nbformat_minor": 0,
  "nbformat": 4,
  "cells": [
    {
      "cell_type": "markdown",
      "metadata": {
        "id": "view-in-github",
        "colab_type": "text"
      },
      "source": [
        "<a href=\"https://colab.research.google.com/github/ThaerAlkassab/fraud_detection_gnn/blob/main/NN%2BGNN%2BSMOTE.ipynb\" target=\"_parent\"><img src=\"https://colab.research.google.com/assets/colab-badge.svg\" alt=\"Open In Colab\"/></a>"
      ]
    },
    {
      "cell_type": "markdown",
      "source": [
        "# Fraud Detection Using GNNs\n",
        "## What is fraud detection ?\n",
        "Fraud detection is the process of identifying and preventing unauthorized activity in organizations. It has become a major challenge for companies in industries such as banking, finance, retail, and e-commerce. Fraud can negatively impact an organization's financial performance and reputation, making it crucial for companies to prevent and predict suspicious activity."
      ],
      "metadata": {
        "id": "j1N1N6NUdISq"
      }
    },
    {
      "cell_type": "markdown",
      "source": [
        "## Complex and evolving fraud patterns\n",
        "Fraudsters continually revise their strategies and devise ever-more-sophisticated methods to cheat the system, regularly involving intricate networks of transactions to prevent recognition. Traditional rule-based systems and matrix-based ML such as SVMs and XGBoost often just ponder the immediate edges of a deal (who transferred money to whom), usually omitting to notice fraudulent patterns with more complicated context. Rule-based systems furthermore need to be manually adjusted as fraud patterns shift and new scams arise.\n"
      ],
      "metadata": {
        "id": "qLdYSI46dISr"
      }
    },
    {
      "cell_type": "markdown",
      "source": [
        "## Label Quality\n",
        "The datasets for fraud detection are commonly unbalanced and incompletely labeled. In reality, only a tiny fraction of people plan to perpetrate fraud. Usually, domain specialists will label transactions as fraudulent or not, but they can't make certain that all fraud has been identified in the dataset.\n",
        "\n",
        "The large disparity between the number of labels and the amount of data available renders it hard to generate supervised models. Models trained on the accessible classifications could have a greater number of false negatives, while the imbalanced dataset could lead to an increase in false positives. Consequently, training Graph Neural Networks (GNNs) with different objectives and making use of their latent representations afterwards can be advantageous.\n",
        "\n"
      ],
      "metadata": {
        "id": "2N-pfm-idISs"
      }
    },
    {
      "cell_type": "markdown",
      "source": [
        "## Model explainability\n",
        "Predicting if a transaction is fraudulent or not is inadequate for meeting the transparency standards of the banking sector. It is also essential to comprehend why certain deals are marked as deceitful. This explicability is critical for comprehending how fraud occurs, how to execute procedures to reduce fraud, and to make sure the process isn’t prejudiced. As a result, fraud detection models must be comprehensible and interpretable, which restricts the choices of models that investigators can apply."
      ],
      "metadata": {
        "id": "Y7v6_6KBdISs"
      }
    },
    {
      "cell_type": "markdown",
      "source": [
        "## Graph approaches for fraud detection\n",
        "Transactions can be represented as a graph, with users as nodes and interactions between them as edges. Traditional feature-based algorithms such as XGBoost and DLRM analyze individual nodes or edges, while graph-based approaches take into account the local context and structure of the graph, including neighboring nodes and edges.\n",
        "\n",
        "In the traditional graph domain, there are various methods for making predictions based on graph structure, such as statistical approaches that aggregate features from adjacent nodes or edges. Algorithms like the Louvain method and InfoMap can identify communities and clusters of users on the graph. However, these methods lack the expressivity to fully consider the graph in its original format.\n",
        "\n",
        "Graph neural networks (GNNs) offer a solution by representing local structural and feature context natively within the model. Through aggregation and message passing, information from both edges and nodes is propagated to neighboring nodes. Multiple layers of graph convolution result in a node's state containing information from nodes multiple layers away, effectively allowing the GNN to have a \"receptive field\" of nodes or edges multiple jumps away from the node or edge in question.\n",
        "\n",
        "For fraud detection, GNNs can account for complex or longer chains of transactions that fraudsters use for obfuscation. Additionally, changing patterns can be addressed by retraining the model iteratively."
      ],
      "metadata": {
        "id": "Xt3JemFAdISt"
      }
    },
    {
      "cell_type": "markdown",
      "source": [
        "## ML for graph\n",
        "These are the general steps of ML on Graph, depending on the task, the methods used in each step may change and not all the steps may be needed.\n",
        "\n",
        "1- Graph Representation: The first step in applying machine learning techniques to graphs is to represent the graph in a format that can be input into a machine learning model. This can be done using various graph representations such as adjacency matrices, adjacency lists, and edge lists.\n",
        "\n",
        "2- Feature Extraction: Once the graph is represented, the next step is to extract features from the graph that can be used as input to a machine learning model. These features can include things like node degree, centrality measures, and graph traversal patterns.\n",
        "\n",
        "3- Dimensionality Reduction: As the number of nodes and edges in a graph can be large, it is often necessary to reduce the dimensionality of the graph representation before applying machine learning techniques. This can be done using techniques like principal component analysis (PCA) and t-SNE.\n",
        "\n",
        "4- Model Selection: After the graph is represented and features have been extracted, the next step is to select a machine learning model that can be applied to the graph data. Common models used for graph data include decision trees, random forests, and neural networks.\n",
        "\n",
        "5- Training and Evaluation: Once the model is selected, it is trained on the graph data using a labeled training dataset. The model is then evaluated on a separate test dataset to assess its performance.\n",
        "\n",
        "6- Predictions: After the model is trained, it can be used to make predictions on new graph data. For example, it can be used to predict the likelihood of a node in a graph being in a certain class or to predict the likelihood of a link between two nodes."
      ],
      "metadata": {
        "id": "7dQVbpAzdISt"
      }
    },
    {
      "cell_type": "markdown",
      "source": [
        "## Dataset\n",
        "The IBM credit card transaction dataset is a publicly available dataset that contains information about credit card transactions. It is often used for research and testing of fraud detection models. The dataset includes a variety of features such as the amount of the transaction, the type of card used, and the location of the transaction. It also includes a label indicating whether or not the transaction was fraudulent. The dataset is designed to be representative of real-world transactions and therefore contains a certain level of class imbalance, with a higher number of non-fraudulent transactions than fraudulent transactions. The dataset is provided by IBM and the data is simulated, but it is not specified the exact process of data simulation. It is important to note that the data is not real and it is not linked to any real customer or financial institution.\n",
        "\n",
        "The data set contains:\n",
        "\n",
        "* 24 million unique transactions\n",
        "* 6,000 unique merchants\n",
        "* 100,000 unique cards\n",
        "* 30,000 fraudulent samples (0.1% of total transactions)\n",
        "\n",
        "Where to find the data\n",
        "\n",
        "In our case we will use Kaggle to create our GNN model so we are using the dataset on kaggle, here's the link[https://www.kaggle.com/datasets/ealtman2019/credit-card-transactions]"
      ],
      "metadata": {
        "id": "hwQ413p1dISt"
      }
    },
    {
      "cell_type": "code",
      "source": [
        "from google.colab import drive\n",
        "drive.mount('/content/drive')"
      ],
      "metadata": {
        "colab": {
          "base_uri": "https://localhost:8080/"
        },
        "id": "r9l-97ysdqQh",
        "outputId": "71f42be6-cbd7-41b3-dbad-29b5372ddeb6"
      },
      "execution_count": null,
      "outputs": [
        {
          "output_type": "stream",
          "name": "stdout",
          "text": [
            "Drive already mounted at /content/drive; to attempt to forcibly remount, call drive.mount(\"/content/drive\", force_remount=True).\n"
          ]
        }
      ]
    },
    {
      "cell_type": "code",
      "source": [
        "import numpy as np\n",
        "import pandas as pd\n",
        "import os\n",
        "import sklearn\n",
        "import seaborn as sns\n",
        "import matplotlib.pyplot as plt\n",
        "from sklearn.model_selection import train_test_split\n",
        "from sklearn.metrics import classification_report\n",
        "from sklearn.preprocessing import StandardScaler, LabelEncoder\n",
        "from sklearn.linear_model import LogisticRegression\n",
        "from keras.models import Sequential\n",
        "from keras.layers import Dense, Dropout\n",
        "from tensorflow.keras.callbacks import EarlyStopping\n",
        "from sklearn.metrics import confusion_matrix, classification_report\n",
        "from sklearn.metrics import accuracy_score, f1_score, precision_score, recall_score"
      ],
      "metadata": {
        "_uuid": "8f2839f25d086af736a60e9eeb907d3b93b6e0e5",
        "_cell_guid": "b1076dfc-b9ad-4769-8c92-a6c4dae69d19",
        "execution": {
          "iopub.status.busy": "2024-10-20T10:23:14.212811Z",
          "iopub.execute_input": "2024-10-20T10:23:14.213616Z",
          "iopub.status.idle": "2024-10-20T10:23:22.394853Z",
          "shell.execute_reply.started": "2024-10-20T10:23:14.213571Z",
          "shell.execute_reply": "2024-10-20T10:23:22.393947Z"
        },
        "trusted": true,
        "id": "HKPnEqAVdISu"
      },
      "execution_count": null,
      "outputs": []
    },
    {
      "cell_type": "code",
      "source": [
        "df = pd.read_csv('/content/drive/MyDrive/Colab Notebooks/XAI_GNN_Thesis/data/card_transaction.v1.csv')"
      ],
      "metadata": {
        "execution": {
          "iopub.status.busy": "2024-10-20T10:23:22.396773Z",
          "iopub.execute_input": "2024-10-20T10:23:22.397377Z"
        },
        "trusted": true,
        "id": "pRjvRfzSdISu"
      },
      "execution_count": null,
      "outputs": []
    },
    {
      "cell_type": "code",
      "source": [
        "df = df.sample(frac=1, random_state=42)  # Shuffle the data"
      ],
      "metadata": {
        "trusted": true,
        "id": "___E9GGYdISu"
      },
      "execution_count": null,
      "outputs": []
    },
    {
      "cell_type": "code",
      "source": [
        "subset_size = int(0.1 * len(df))  # 20% of data"
      ],
      "metadata": {
        "trusted": true,
        "id": "LDCo-K0DdISu"
      },
      "execution_count": null,
      "outputs": []
    },
    {
      "cell_type": "code",
      "source": [
        "# Creating a new subset from the shuffled data\n",
        "subset_df = df.iloc[:subset_size]"
      ],
      "metadata": {
        "trusted": true,
        "id": "X2Z92gb0dISu"
      },
      "execution_count": null,
      "outputs": []
    },
    {
      "cell_type": "code",
      "source": [
        "subset_df.head()"
      ],
      "metadata": {
        "trusted": true,
        "colab": {
          "base_uri": "https://localhost:8080/",
          "height": 310
        },
        "id": "d7h-oEKSdISv",
        "outputId": "99af4f54-0a56-4746-ee9c-8098de91eacf"
      },
      "execution_count": null,
      "outputs": [
        {
          "output_type": "execute_result",
          "data": {
            "text/plain": [
              "          User  Card  Year  Month  Day   Time    Amount            Use Chip  \\\n",
              "18199893  1470     0  2019      7   10  00:11    $59.18    Chip Transaction   \n",
              "9731325    822     1  2019      1   14  22:12   $280.91  Online Transaction   \n",
              "536687      41     3  2010      3   15  07:07  $-144.00   Swipe Transaction   \n",
              "13223840  1084     0  2015      9   20  14:58     $6.76    Chip Transaction   \n",
              "17070521  1384     0  2014     10   12  11:44     $9.17   Swipe Transaction   \n",
              "\n",
              "                Merchant Name Merchant City Merchant State      Zip   MCC  \\\n",
              "18199893 -6853385250336487907       Harwood             MD  20776.0  5813   \n",
              "9731325   4241336128694185533        ONLINE            NaN      NaN  4814   \n",
              "536687     190253443608377572         Hemet             CA  92543.0  3359   \n",
              "13223840 -7837310524365334241     Littleton             CO  80122.0  5300   \n",
              "17070521 -5023497618971072366       Gardner             KS  66030.0  5812   \n",
              "\n",
              "         Errors? Is Fraud?  \n",
              "18199893     NaN        No  \n",
              "9731325      NaN        No  \n",
              "536687       NaN        No  \n",
              "13223840     NaN        No  \n",
              "17070521     NaN        No  "
            ],
            "text/html": [
              "\n",
              "  <div id=\"df-302c8680-bf17-4c64-8573-80ba2961e95f\" class=\"colab-df-container\">\n",
              "    <div>\n",
              "<style scoped>\n",
              "    .dataframe tbody tr th:only-of-type {\n",
              "        vertical-align: middle;\n",
              "    }\n",
              "\n",
              "    .dataframe tbody tr th {\n",
              "        vertical-align: top;\n",
              "    }\n",
              "\n",
              "    .dataframe thead th {\n",
              "        text-align: right;\n",
              "    }\n",
              "</style>\n",
              "<table border=\"1\" class=\"dataframe\">\n",
              "  <thead>\n",
              "    <tr style=\"text-align: right;\">\n",
              "      <th></th>\n",
              "      <th>User</th>\n",
              "      <th>Card</th>\n",
              "      <th>Year</th>\n",
              "      <th>Month</th>\n",
              "      <th>Day</th>\n",
              "      <th>Time</th>\n",
              "      <th>Amount</th>\n",
              "      <th>Use Chip</th>\n",
              "      <th>Merchant Name</th>\n",
              "      <th>Merchant City</th>\n",
              "      <th>Merchant State</th>\n",
              "      <th>Zip</th>\n",
              "      <th>MCC</th>\n",
              "      <th>Errors?</th>\n",
              "      <th>Is Fraud?</th>\n",
              "    </tr>\n",
              "  </thead>\n",
              "  <tbody>\n",
              "    <tr>\n",
              "      <th>18199893</th>\n",
              "      <td>1470</td>\n",
              "      <td>0</td>\n",
              "      <td>2019</td>\n",
              "      <td>7</td>\n",
              "      <td>10</td>\n",
              "      <td>00:11</td>\n",
              "      <td>$59.18</td>\n",
              "      <td>Chip Transaction</td>\n",
              "      <td>-6853385250336487907</td>\n",
              "      <td>Harwood</td>\n",
              "      <td>MD</td>\n",
              "      <td>20776.0</td>\n",
              "      <td>5813</td>\n",
              "      <td>NaN</td>\n",
              "      <td>No</td>\n",
              "    </tr>\n",
              "    <tr>\n",
              "      <th>9731325</th>\n",
              "      <td>822</td>\n",
              "      <td>1</td>\n",
              "      <td>2019</td>\n",
              "      <td>1</td>\n",
              "      <td>14</td>\n",
              "      <td>22:12</td>\n",
              "      <td>$280.91</td>\n",
              "      <td>Online Transaction</td>\n",
              "      <td>4241336128694185533</td>\n",
              "      <td>ONLINE</td>\n",
              "      <td>NaN</td>\n",
              "      <td>NaN</td>\n",
              "      <td>4814</td>\n",
              "      <td>NaN</td>\n",
              "      <td>No</td>\n",
              "    </tr>\n",
              "    <tr>\n",
              "      <th>536687</th>\n",
              "      <td>41</td>\n",
              "      <td>3</td>\n",
              "      <td>2010</td>\n",
              "      <td>3</td>\n",
              "      <td>15</td>\n",
              "      <td>07:07</td>\n",
              "      <td>$-144.00</td>\n",
              "      <td>Swipe Transaction</td>\n",
              "      <td>190253443608377572</td>\n",
              "      <td>Hemet</td>\n",
              "      <td>CA</td>\n",
              "      <td>92543.0</td>\n",
              "      <td>3359</td>\n",
              "      <td>NaN</td>\n",
              "      <td>No</td>\n",
              "    </tr>\n",
              "    <tr>\n",
              "      <th>13223840</th>\n",
              "      <td>1084</td>\n",
              "      <td>0</td>\n",
              "      <td>2015</td>\n",
              "      <td>9</td>\n",
              "      <td>20</td>\n",
              "      <td>14:58</td>\n",
              "      <td>$6.76</td>\n",
              "      <td>Chip Transaction</td>\n",
              "      <td>-7837310524365334241</td>\n",
              "      <td>Littleton</td>\n",
              "      <td>CO</td>\n",
              "      <td>80122.0</td>\n",
              "      <td>5300</td>\n",
              "      <td>NaN</td>\n",
              "      <td>No</td>\n",
              "    </tr>\n",
              "    <tr>\n",
              "      <th>17070521</th>\n",
              "      <td>1384</td>\n",
              "      <td>0</td>\n",
              "      <td>2014</td>\n",
              "      <td>10</td>\n",
              "      <td>12</td>\n",
              "      <td>11:44</td>\n",
              "      <td>$9.17</td>\n",
              "      <td>Swipe Transaction</td>\n",
              "      <td>-5023497618971072366</td>\n",
              "      <td>Gardner</td>\n",
              "      <td>KS</td>\n",
              "      <td>66030.0</td>\n",
              "      <td>5812</td>\n",
              "      <td>NaN</td>\n",
              "      <td>No</td>\n",
              "    </tr>\n",
              "  </tbody>\n",
              "</table>\n",
              "</div>\n",
              "    <div class=\"colab-df-buttons\">\n",
              "\n",
              "  <div class=\"colab-df-container\">\n",
              "    <button class=\"colab-df-convert\" onclick=\"convertToInteractive('df-302c8680-bf17-4c64-8573-80ba2961e95f')\"\n",
              "            title=\"Convert this dataframe to an interactive table.\"\n",
              "            style=\"display:none;\">\n",
              "\n",
              "  <svg xmlns=\"http://www.w3.org/2000/svg\" height=\"24px\" viewBox=\"0 -960 960 960\">\n",
              "    <path d=\"M120-120v-720h720v720H120Zm60-500h600v-160H180v160Zm220 220h160v-160H400v160Zm0 220h160v-160H400v160ZM180-400h160v-160H180v160Zm440 0h160v-160H620v160ZM180-180h160v-160H180v160Zm440 0h160v-160H620v160Z\"/>\n",
              "  </svg>\n",
              "    </button>\n",
              "\n",
              "  <style>\n",
              "    .colab-df-container {\n",
              "      display:flex;\n",
              "      gap: 12px;\n",
              "    }\n",
              "\n",
              "    .colab-df-convert {\n",
              "      background-color: #E8F0FE;\n",
              "      border: none;\n",
              "      border-radius: 50%;\n",
              "      cursor: pointer;\n",
              "      display: none;\n",
              "      fill: #1967D2;\n",
              "      height: 32px;\n",
              "      padding: 0 0 0 0;\n",
              "      width: 32px;\n",
              "    }\n",
              "\n",
              "    .colab-df-convert:hover {\n",
              "      background-color: #E2EBFA;\n",
              "      box-shadow: 0px 1px 2px rgba(60, 64, 67, 0.3), 0px 1px 3px 1px rgba(60, 64, 67, 0.15);\n",
              "      fill: #174EA6;\n",
              "    }\n",
              "\n",
              "    .colab-df-buttons div {\n",
              "      margin-bottom: 4px;\n",
              "    }\n",
              "\n",
              "    [theme=dark] .colab-df-convert {\n",
              "      background-color: #3B4455;\n",
              "      fill: #D2E3FC;\n",
              "    }\n",
              "\n",
              "    [theme=dark] .colab-df-convert:hover {\n",
              "      background-color: #434B5C;\n",
              "      box-shadow: 0px 1px 3px 1px rgba(0, 0, 0, 0.15);\n",
              "      filter: drop-shadow(0px 1px 2px rgba(0, 0, 0, 0.3));\n",
              "      fill: #FFFFFF;\n",
              "    }\n",
              "  </style>\n",
              "\n",
              "    <script>\n",
              "      const buttonEl =\n",
              "        document.querySelector('#df-302c8680-bf17-4c64-8573-80ba2961e95f button.colab-df-convert');\n",
              "      buttonEl.style.display =\n",
              "        google.colab.kernel.accessAllowed ? 'block' : 'none';\n",
              "\n",
              "      async function convertToInteractive(key) {\n",
              "        const element = document.querySelector('#df-302c8680-bf17-4c64-8573-80ba2961e95f');\n",
              "        const dataTable =\n",
              "          await google.colab.kernel.invokeFunction('convertToInteractive',\n",
              "                                                    [key], {});\n",
              "        if (!dataTable) return;\n",
              "\n",
              "        const docLinkHtml = 'Like what you see? Visit the ' +\n",
              "          '<a target=\"_blank\" href=https://colab.research.google.com/notebooks/data_table.ipynb>data table notebook</a>'\n",
              "          + ' to learn more about interactive tables.';\n",
              "        element.innerHTML = '';\n",
              "        dataTable['output_type'] = 'display_data';\n",
              "        await google.colab.output.renderOutput(dataTable, element);\n",
              "        const docLink = document.createElement('div');\n",
              "        docLink.innerHTML = docLinkHtml;\n",
              "        element.appendChild(docLink);\n",
              "      }\n",
              "    </script>\n",
              "  </div>\n",
              "\n",
              "\n",
              "<div id=\"df-b9253a12-e386-450c-9124-661c80537cca\">\n",
              "  <button class=\"colab-df-quickchart\" onclick=\"quickchart('df-b9253a12-e386-450c-9124-661c80537cca')\"\n",
              "            title=\"Suggest charts\"\n",
              "            style=\"display:none;\">\n",
              "\n",
              "<svg xmlns=\"http://www.w3.org/2000/svg\" height=\"24px\"viewBox=\"0 0 24 24\"\n",
              "     width=\"24px\">\n",
              "    <g>\n",
              "        <path d=\"M19 3H5c-1.1 0-2 .9-2 2v14c0 1.1.9 2 2 2h14c1.1 0 2-.9 2-2V5c0-1.1-.9-2-2-2zM9 17H7v-7h2v7zm4 0h-2V7h2v10zm4 0h-2v-4h2v4z\"/>\n",
              "    </g>\n",
              "</svg>\n",
              "  </button>\n",
              "\n",
              "<style>\n",
              "  .colab-df-quickchart {\n",
              "      --bg-color: #E8F0FE;\n",
              "      --fill-color: #1967D2;\n",
              "      --hover-bg-color: #E2EBFA;\n",
              "      --hover-fill-color: #174EA6;\n",
              "      --disabled-fill-color: #AAA;\n",
              "      --disabled-bg-color: #DDD;\n",
              "  }\n",
              "\n",
              "  [theme=dark] .colab-df-quickchart {\n",
              "      --bg-color: #3B4455;\n",
              "      --fill-color: #D2E3FC;\n",
              "      --hover-bg-color: #434B5C;\n",
              "      --hover-fill-color: #FFFFFF;\n",
              "      --disabled-bg-color: #3B4455;\n",
              "      --disabled-fill-color: #666;\n",
              "  }\n",
              "\n",
              "  .colab-df-quickchart {\n",
              "    background-color: var(--bg-color);\n",
              "    border: none;\n",
              "    border-radius: 50%;\n",
              "    cursor: pointer;\n",
              "    display: none;\n",
              "    fill: var(--fill-color);\n",
              "    height: 32px;\n",
              "    padding: 0;\n",
              "    width: 32px;\n",
              "  }\n",
              "\n",
              "  .colab-df-quickchart:hover {\n",
              "    background-color: var(--hover-bg-color);\n",
              "    box-shadow: 0 1px 2px rgba(60, 64, 67, 0.3), 0 1px 3px 1px rgba(60, 64, 67, 0.15);\n",
              "    fill: var(--button-hover-fill-color);\n",
              "  }\n",
              "\n",
              "  .colab-df-quickchart-complete:disabled,\n",
              "  .colab-df-quickchart-complete:disabled:hover {\n",
              "    background-color: var(--disabled-bg-color);\n",
              "    fill: var(--disabled-fill-color);\n",
              "    box-shadow: none;\n",
              "  }\n",
              "\n",
              "  .colab-df-spinner {\n",
              "    border: 2px solid var(--fill-color);\n",
              "    border-color: transparent;\n",
              "    border-bottom-color: var(--fill-color);\n",
              "    animation:\n",
              "      spin 1s steps(1) infinite;\n",
              "  }\n",
              "\n",
              "  @keyframes spin {\n",
              "    0% {\n",
              "      border-color: transparent;\n",
              "      border-bottom-color: var(--fill-color);\n",
              "      border-left-color: var(--fill-color);\n",
              "    }\n",
              "    20% {\n",
              "      border-color: transparent;\n",
              "      border-left-color: var(--fill-color);\n",
              "      border-top-color: var(--fill-color);\n",
              "    }\n",
              "    30% {\n",
              "      border-color: transparent;\n",
              "      border-left-color: var(--fill-color);\n",
              "      border-top-color: var(--fill-color);\n",
              "      border-right-color: var(--fill-color);\n",
              "    }\n",
              "    40% {\n",
              "      border-color: transparent;\n",
              "      border-right-color: var(--fill-color);\n",
              "      border-top-color: var(--fill-color);\n",
              "    }\n",
              "    60% {\n",
              "      border-color: transparent;\n",
              "      border-right-color: var(--fill-color);\n",
              "    }\n",
              "    80% {\n",
              "      border-color: transparent;\n",
              "      border-right-color: var(--fill-color);\n",
              "      border-bottom-color: var(--fill-color);\n",
              "    }\n",
              "    90% {\n",
              "      border-color: transparent;\n",
              "      border-bottom-color: var(--fill-color);\n",
              "    }\n",
              "  }\n",
              "</style>\n",
              "\n",
              "  <script>\n",
              "    async function quickchart(key) {\n",
              "      const quickchartButtonEl =\n",
              "        document.querySelector('#' + key + ' button');\n",
              "      quickchartButtonEl.disabled = true;  // To prevent multiple clicks.\n",
              "      quickchartButtonEl.classList.add('colab-df-spinner');\n",
              "      try {\n",
              "        const charts = await google.colab.kernel.invokeFunction(\n",
              "            'suggestCharts', [key], {});\n",
              "      } catch (error) {\n",
              "        console.error('Error during call to suggestCharts:', error);\n",
              "      }\n",
              "      quickchartButtonEl.classList.remove('colab-df-spinner');\n",
              "      quickchartButtonEl.classList.add('colab-df-quickchart-complete');\n",
              "    }\n",
              "    (() => {\n",
              "      let quickchartButtonEl =\n",
              "        document.querySelector('#df-b9253a12-e386-450c-9124-661c80537cca button');\n",
              "      quickchartButtonEl.style.display =\n",
              "        google.colab.kernel.accessAllowed ? 'block' : 'none';\n",
              "    })();\n",
              "  </script>\n",
              "</div>\n",
              "\n",
              "    </div>\n",
              "  </div>\n"
            ],
            "application/vnd.google.colaboratory.intrinsic+json": {
              "type": "dataframe",
              "variable_name": "subset_df"
            }
          },
          "metadata": {},
          "execution_count": 7
        }
      ]
    },
    {
      "cell_type": "code",
      "source": [
        "subset_df.dtypes"
      ],
      "metadata": {
        "trusted": true,
        "colab": {
          "base_uri": "https://localhost:8080/",
          "height": 554
        },
        "id": "He3kEeNQdISv",
        "outputId": "748cf280-0bf7-4558-9d51-123a3102bf5c"
      },
      "execution_count": null,
      "outputs": [
        {
          "output_type": "execute_result",
          "data": {
            "text/plain": [
              "User                int64\n",
              "Card                int64\n",
              "Year                int64\n",
              "Month               int64\n",
              "Day                 int64\n",
              "Time               object\n",
              "Amount             object\n",
              "Use Chip           object\n",
              "Merchant Name       int64\n",
              "Merchant City      object\n",
              "Merchant State     object\n",
              "Zip               float64\n",
              "MCC                 int64\n",
              "Errors?            object\n",
              "Is Fraud?          object\n",
              "dtype: object"
            ],
            "text/html": [
              "<div>\n",
              "<style scoped>\n",
              "    .dataframe tbody tr th:only-of-type {\n",
              "        vertical-align: middle;\n",
              "    }\n",
              "\n",
              "    .dataframe tbody tr th {\n",
              "        vertical-align: top;\n",
              "    }\n",
              "\n",
              "    .dataframe thead th {\n",
              "        text-align: right;\n",
              "    }\n",
              "</style>\n",
              "<table border=\"1\" class=\"dataframe\">\n",
              "  <thead>\n",
              "    <tr style=\"text-align: right;\">\n",
              "      <th></th>\n",
              "      <th>0</th>\n",
              "    </tr>\n",
              "  </thead>\n",
              "  <tbody>\n",
              "    <tr>\n",
              "      <th>User</th>\n",
              "      <td>int64</td>\n",
              "    </tr>\n",
              "    <tr>\n",
              "      <th>Card</th>\n",
              "      <td>int64</td>\n",
              "    </tr>\n",
              "    <tr>\n",
              "      <th>Year</th>\n",
              "      <td>int64</td>\n",
              "    </tr>\n",
              "    <tr>\n",
              "      <th>Month</th>\n",
              "      <td>int64</td>\n",
              "    </tr>\n",
              "    <tr>\n",
              "      <th>Day</th>\n",
              "      <td>int64</td>\n",
              "    </tr>\n",
              "    <tr>\n",
              "      <th>Time</th>\n",
              "      <td>object</td>\n",
              "    </tr>\n",
              "    <tr>\n",
              "      <th>Amount</th>\n",
              "      <td>object</td>\n",
              "    </tr>\n",
              "    <tr>\n",
              "      <th>Use Chip</th>\n",
              "      <td>object</td>\n",
              "    </tr>\n",
              "    <tr>\n",
              "      <th>Merchant Name</th>\n",
              "      <td>int64</td>\n",
              "    </tr>\n",
              "    <tr>\n",
              "      <th>Merchant City</th>\n",
              "      <td>object</td>\n",
              "    </tr>\n",
              "    <tr>\n",
              "      <th>Merchant State</th>\n",
              "      <td>object</td>\n",
              "    </tr>\n",
              "    <tr>\n",
              "      <th>Zip</th>\n",
              "      <td>float64</td>\n",
              "    </tr>\n",
              "    <tr>\n",
              "      <th>MCC</th>\n",
              "      <td>int64</td>\n",
              "    </tr>\n",
              "    <tr>\n",
              "      <th>Errors?</th>\n",
              "      <td>object</td>\n",
              "    </tr>\n",
              "    <tr>\n",
              "      <th>Is Fraud?</th>\n",
              "      <td>object</td>\n",
              "    </tr>\n",
              "  </tbody>\n",
              "</table>\n",
              "</div><br><label><b>dtype:</b> object</label>"
            ]
          },
          "metadata": {},
          "execution_count": 8
        }
      ]
    },
    {
      "cell_type": "code",
      "source": [
        "# Split the \"Time\" column into hours and minutes\n",
        "subset_df[['Hours', 'Minutes']] = subset_df['Time'].str.split(':', expand=True)\n",
        "\n",
        "# Convert hours and minutes to numerical values\n",
        "subset_df['Hours'] = pd.to_numeric(subset_df['Hours'])\n",
        "subset_df['Minutes'] = pd.to_numeric(subset_df['Minutes'])\n",
        "\n",
        "# Drop the original \"Time\" column\n",
        "subset_df = subset_df.drop(columns=['Time'])"
      ],
      "metadata": {
        "trusted": true,
        "id": "UxN81qKJdISv",
        "colab": {
          "base_uri": "https://localhost:8080/"
        },
        "outputId": "60311445-a818-49c2-c3a4-e5231850f151"
      },
      "execution_count": null,
      "outputs": [
        {
          "output_type": "stream",
          "name": "stderr",
          "text": [
            "<ipython-input-9-734556bda71f>:2: SettingWithCopyWarning: \n",
            "A value is trying to be set on a copy of a slice from a DataFrame.\n",
            "Try using .loc[row_indexer,col_indexer] = value instead\n",
            "\n",
            "See the caveats in the documentation: https://pandas.pydata.org/pandas-docs/stable/user_guide/indexing.html#returning-a-view-versus-a-copy\n",
            "  subset_df[['Hours', 'Minutes']] = subset_df['Time'].str.split(':', expand=True)\n",
            "<ipython-input-9-734556bda71f>:2: SettingWithCopyWarning: \n",
            "A value is trying to be set on a copy of a slice from a DataFrame.\n",
            "Try using .loc[row_indexer,col_indexer] = value instead\n",
            "\n",
            "See the caveats in the documentation: https://pandas.pydata.org/pandas-docs/stable/user_guide/indexing.html#returning-a-view-versus-a-copy\n",
            "  subset_df[['Hours', 'Minutes']] = subset_df['Time'].str.split(':', expand=True)\n",
            "<ipython-input-9-734556bda71f>:5: SettingWithCopyWarning: \n",
            "A value is trying to be set on a copy of a slice from a DataFrame.\n",
            "Try using .loc[row_indexer,col_indexer] = value instead\n",
            "\n",
            "See the caveats in the documentation: https://pandas.pydata.org/pandas-docs/stable/user_guide/indexing.html#returning-a-view-versus-a-copy\n",
            "  subset_df['Hours'] = pd.to_numeric(subset_df['Hours'])\n",
            "<ipython-input-9-734556bda71f>:6: SettingWithCopyWarning: \n",
            "A value is trying to be set on a copy of a slice from a DataFrame.\n",
            "Try using .loc[row_indexer,col_indexer] = value instead\n",
            "\n",
            "See the caveats in the documentation: https://pandas.pydata.org/pandas-docs/stable/user_guide/indexing.html#returning-a-view-versus-a-copy\n",
            "  subset_df['Minutes'] = pd.to_numeric(subset_df['Minutes'])\n"
          ]
        }
      ]
    },
    {
      "cell_type": "code",
      "source": [
        "subset_df.isnull().sum()"
      ],
      "metadata": {
        "trusted": true,
        "id": "-z9qD9qZdISv",
        "colab": {
          "base_uri": "https://localhost:8080/",
          "height": 585
        },
        "outputId": "71a741e5-44d2-4e6e-908b-6db61f4f9e3d"
      },
      "execution_count": null,
      "outputs": [
        {
          "output_type": "execute_result",
          "data": {
            "text/plain": [
              "User                    0\n",
              "Card                    0\n",
              "Year                    0\n",
              "Month                   0\n",
              "Day                     0\n",
              "Amount                  0\n",
              "Use Chip                0\n",
              "Merchant Name           0\n",
              "Merchant City           0\n",
              "Merchant State     271549\n",
              "Zip                287254\n",
              "MCC                     0\n",
              "Errors?           2399673\n",
              "Is Fraud?               0\n",
              "Hours                   0\n",
              "Minutes                 0\n",
              "dtype: int64"
            ],
            "text/html": [
              "<div>\n",
              "<style scoped>\n",
              "    .dataframe tbody tr th:only-of-type {\n",
              "        vertical-align: middle;\n",
              "    }\n",
              "\n",
              "    .dataframe tbody tr th {\n",
              "        vertical-align: top;\n",
              "    }\n",
              "\n",
              "    .dataframe thead th {\n",
              "        text-align: right;\n",
              "    }\n",
              "</style>\n",
              "<table border=\"1\" class=\"dataframe\">\n",
              "  <thead>\n",
              "    <tr style=\"text-align: right;\">\n",
              "      <th></th>\n",
              "      <th>0</th>\n",
              "    </tr>\n",
              "  </thead>\n",
              "  <tbody>\n",
              "    <tr>\n",
              "      <th>User</th>\n",
              "      <td>0</td>\n",
              "    </tr>\n",
              "    <tr>\n",
              "      <th>Card</th>\n",
              "      <td>0</td>\n",
              "    </tr>\n",
              "    <tr>\n",
              "      <th>Year</th>\n",
              "      <td>0</td>\n",
              "    </tr>\n",
              "    <tr>\n",
              "      <th>Month</th>\n",
              "      <td>0</td>\n",
              "    </tr>\n",
              "    <tr>\n",
              "      <th>Day</th>\n",
              "      <td>0</td>\n",
              "    </tr>\n",
              "    <tr>\n",
              "      <th>Amount</th>\n",
              "      <td>0</td>\n",
              "    </tr>\n",
              "    <tr>\n",
              "      <th>Use Chip</th>\n",
              "      <td>0</td>\n",
              "    </tr>\n",
              "    <tr>\n",
              "      <th>Merchant Name</th>\n",
              "      <td>0</td>\n",
              "    </tr>\n",
              "    <tr>\n",
              "      <th>Merchant City</th>\n",
              "      <td>0</td>\n",
              "    </tr>\n",
              "    <tr>\n",
              "      <th>Merchant State</th>\n",
              "      <td>271549</td>\n",
              "    </tr>\n",
              "    <tr>\n",
              "      <th>Zip</th>\n",
              "      <td>287254</td>\n",
              "    </tr>\n",
              "    <tr>\n",
              "      <th>MCC</th>\n",
              "      <td>0</td>\n",
              "    </tr>\n",
              "    <tr>\n",
              "      <th>Errors?</th>\n",
              "      <td>2399673</td>\n",
              "    </tr>\n",
              "    <tr>\n",
              "      <th>Is Fraud?</th>\n",
              "      <td>0</td>\n",
              "    </tr>\n",
              "    <tr>\n",
              "      <th>Hours</th>\n",
              "      <td>0</td>\n",
              "    </tr>\n",
              "    <tr>\n",
              "      <th>Minutes</th>\n",
              "      <td>0</td>\n",
              "    </tr>\n",
              "  </tbody>\n",
              "</table>\n",
              "</div><br><label><b>dtype:</b> int64</label>"
            ]
          },
          "metadata": {},
          "execution_count": 10
        }
      ]
    },
    {
      "cell_type": "code",
      "source": [
        "# Fill missing values\n",
        "subset_df['Merchant State'].fillna('No State', inplace=True)\n",
        "subset_df['Zip'].fillna(0, inplace=True)\n",
        "subset_df['Errors?'].fillna('No Error', inplace=True)"
      ],
      "metadata": {
        "trusted": true,
        "id": "Lr7WjFPQdISv",
        "colab": {
          "base_uri": "https://localhost:8080/"
        },
        "outputId": "66bbf287-3b10-4d6a-9eed-29cfb4d1863e"
      },
      "execution_count": null,
      "outputs": [
        {
          "output_type": "stream",
          "name": "stderr",
          "text": [
            "<ipython-input-11-189722c185b9>:2: FutureWarning: A value is trying to be set on a copy of a DataFrame or Series through chained assignment using an inplace method.\n",
            "The behavior will change in pandas 3.0. This inplace method will never work because the intermediate object on which we are setting values always behaves as a copy.\n",
            "\n",
            "For example, when doing 'df[col].method(value, inplace=True)', try using 'df.method({col: value}, inplace=True)' or df[col] = df[col].method(value) instead, to perform the operation inplace on the original object.\n",
            "\n",
            "\n",
            "  subset_df['Merchant State'].fillna('No State', inplace=True)\n",
            "<ipython-input-11-189722c185b9>:3: FutureWarning: A value is trying to be set on a copy of a DataFrame or Series through chained assignment using an inplace method.\n",
            "The behavior will change in pandas 3.0. This inplace method will never work because the intermediate object on which we are setting values always behaves as a copy.\n",
            "\n",
            "For example, when doing 'df[col].method(value, inplace=True)', try using 'df.method({col: value}, inplace=True)' or df[col] = df[col].method(value) instead, to perform the operation inplace on the original object.\n",
            "\n",
            "\n",
            "  subset_df['Zip'].fillna(0, inplace=True)\n",
            "<ipython-input-11-189722c185b9>:4: FutureWarning: A value is trying to be set on a copy of a DataFrame or Series through chained assignment using an inplace method.\n",
            "The behavior will change in pandas 3.0. This inplace method will never work because the intermediate object on which we are setting values always behaves as a copy.\n",
            "\n",
            "For example, when doing 'df[col].method(value, inplace=True)', try using 'df.method({col: value}, inplace=True)' or df[col] = df[col].method(value) instead, to perform the operation inplace on the original object.\n",
            "\n",
            "\n",
            "  subset_df['Errors?'].fillna('No Error', inplace=True)\n"
          ]
        }
      ]
    },
    {
      "cell_type": "markdown",
      "source": [
        "The two columns Zip and Merchant state can be extracted from the column Merchant City so we will drop them."
      ],
      "metadata": {
        "id": "9zWw1U5TdISv"
      }
    },
    {
      "cell_type": "code",
      "source": [
        "subset_df = subset_df.drop(columns=[\"Merchant State\",\"Zip\"],axis=1)"
      ],
      "metadata": {
        "trusted": true,
        "id": "y8CUR60zdISv"
      },
      "execution_count": null,
      "outputs": []
    },
    {
      "cell_type": "code",
      "source": [
        "# Replacing values in the \"Is Fraud?\" column\n",
        "subset_df['Is Fraud?'] = subset_df['Is Fraud?'].map({'No': 0, 'Yes': 1})"
      ],
      "metadata": {
        "trusted": true,
        "id": "riamhwXKdISv"
      },
      "execution_count": null,
      "outputs": []
    },
    {
      "cell_type": "code",
      "source": [
        "# Removing dollar symbol and converting \"Amount\" to float\n",
        "subset_df['Amount'] = subset_df['Amount'].str.replace('$', '').astype(float)"
      ],
      "metadata": {
        "trusted": true,
        "id": "txXIVEFCdISw"
      },
      "execution_count": null,
      "outputs": []
    },
    {
      "cell_type": "code",
      "source": [
        "subset_df.head()"
      ],
      "metadata": {
        "trusted": true,
        "id": "Nwfdqo3SdISw",
        "colab": {
          "base_uri": "https://localhost:8080/",
          "height": 206
        },
        "outputId": "c3ebe005-0035-40a2-aa5d-c98b99b12e5b"
      },
      "execution_count": null,
      "outputs": [
        {
          "output_type": "execute_result",
          "data": {
            "text/plain": [
              "          User  Card  Year  Month  Day  Amount            Use Chip  \\\n",
              "18199893  1470     0  2019      7   10   59.18    Chip Transaction   \n",
              "9731325    822     1  2019      1   14  280.91  Online Transaction   \n",
              "536687      41     3  2010      3   15 -144.00   Swipe Transaction   \n",
              "13223840  1084     0  2015      9   20    6.76    Chip Transaction   \n",
              "17070521  1384     0  2014     10   12    9.17   Swipe Transaction   \n",
              "\n",
              "                Merchant Name Merchant City   MCC   Errors?  Is Fraud?  Hours  \\\n",
              "18199893 -6853385250336487907       Harwood  5813  No Error          0      0   \n",
              "9731325   4241336128694185533        ONLINE  4814  No Error          0     22   \n",
              "536687     190253443608377572         Hemet  3359  No Error          0      7   \n",
              "13223840 -7837310524365334241     Littleton  5300  No Error          0     14   \n",
              "17070521 -5023497618971072366       Gardner  5812  No Error          0     11   \n",
              "\n",
              "          Minutes  \n",
              "18199893       11  \n",
              "9731325        12  \n",
              "536687          7  \n",
              "13223840       58  \n",
              "17070521       44  "
            ],
            "text/html": [
              "\n",
              "  <div id=\"df-e8425f1b-7788-413c-9cbc-b96d305c1b44\" class=\"colab-df-container\">\n",
              "    <div>\n",
              "<style scoped>\n",
              "    .dataframe tbody tr th:only-of-type {\n",
              "        vertical-align: middle;\n",
              "    }\n",
              "\n",
              "    .dataframe tbody tr th {\n",
              "        vertical-align: top;\n",
              "    }\n",
              "\n",
              "    .dataframe thead th {\n",
              "        text-align: right;\n",
              "    }\n",
              "</style>\n",
              "<table border=\"1\" class=\"dataframe\">\n",
              "  <thead>\n",
              "    <tr style=\"text-align: right;\">\n",
              "      <th></th>\n",
              "      <th>User</th>\n",
              "      <th>Card</th>\n",
              "      <th>Year</th>\n",
              "      <th>Month</th>\n",
              "      <th>Day</th>\n",
              "      <th>Amount</th>\n",
              "      <th>Use Chip</th>\n",
              "      <th>Merchant Name</th>\n",
              "      <th>Merchant City</th>\n",
              "      <th>MCC</th>\n",
              "      <th>Errors?</th>\n",
              "      <th>Is Fraud?</th>\n",
              "      <th>Hours</th>\n",
              "      <th>Minutes</th>\n",
              "    </tr>\n",
              "  </thead>\n",
              "  <tbody>\n",
              "    <tr>\n",
              "      <th>18199893</th>\n",
              "      <td>1470</td>\n",
              "      <td>0</td>\n",
              "      <td>2019</td>\n",
              "      <td>7</td>\n",
              "      <td>10</td>\n",
              "      <td>59.18</td>\n",
              "      <td>Chip Transaction</td>\n",
              "      <td>-6853385250336487907</td>\n",
              "      <td>Harwood</td>\n",
              "      <td>5813</td>\n",
              "      <td>No Error</td>\n",
              "      <td>0</td>\n",
              "      <td>0</td>\n",
              "      <td>11</td>\n",
              "    </tr>\n",
              "    <tr>\n",
              "      <th>9731325</th>\n",
              "      <td>822</td>\n",
              "      <td>1</td>\n",
              "      <td>2019</td>\n",
              "      <td>1</td>\n",
              "      <td>14</td>\n",
              "      <td>280.91</td>\n",
              "      <td>Online Transaction</td>\n",
              "      <td>4241336128694185533</td>\n",
              "      <td>ONLINE</td>\n",
              "      <td>4814</td>\n",
              "      <td>No Error</td>\n",
              "      <td>0</td>\n",
              "      <td>22</td>\n",
              "      <td>12</td>\n",
              "    </tr>\n",
              "    <tr>\n",
              "      <th>536687</th>\n",
              "      <td>41</td>\n",
              "      <td>3</td>\n",
              "      <td>2010</td>\n",
              "      <td>3</td>\n",
              "      <td>15</td>\n",
              "      <td>-144.00</td>\n",
              "      <td>Swipe Transaction</td>\n",
              "      <td>190253443608377572</td>\n",
              "      <td>Hemet</td>\n",
              "      <td>3359</td>\n",
              "      <td>No Error</td>\n",
              "      <td>0</td>\n",
              "      <td>7</td>\n",
              "      <td>7</td>\n",
              "    </tr>\n",
              "    <tr>\n",
              "      <th>13223840</th>\n",
              "      <td>1084</td>\n",
              "      <td>0</td>\n",
              "      <td>2015</td>\n",
              "      <td>9</td>\n",
              "      <td>20</td>\n",
              "      <td>6.76</td>\n",
              "      <td>Chip Transaction</td>\n",
              "      <td>-7837310524365334241</td>\n",
              "      <td>Littleton</td>\n",
              "      <td>5300</td>\n",
              "      <td>No Error</td>\n",
              "      <td>0</td>\n",
              "      <td>14</td>\n",
              "      <td>58</td>\n",
              "    </tr>\n",
              "    <tr>\n",
              "      <th>17070521</th>\n",
              "      <td>1384</td>\n",
              "      <td>0</td>\n",
              "      <td>2014</td>\n",
              "      <td>10</td>\n",
              "      <td>12</td>\n",
              "      <td>9.17</td>\n",
              "      <td>Swipe Transaction</td>\n",
              "      <td>-5023497618971072366</td>\n",
              "      <td>Gardner</td>\n",
              "      <td>5812</td>\n",
              "      <td>No Error</td>\n",
              "      <td>0</td>\n",
              "      <td>11</td>\n",
              "      <td>44</td>\n",
              "    </tr>\n",
              "  </tbody>\n",
              "</table>\n",
              "</div>\n",
              "    <div class=\"colab-df-buttons\">\n",
              "\n",
              "  <div class=\"colab-df-container\">\n",
              "    <button class=\"colab-df-convert\" onclick=\"convertToInteractive('df-e8425f1b-7788-413c-9cbc-b96d305c1b44')\"\n",
              "            title=\"Convert this dataframe to an interactive table.\"\n",
              "            style=\"display:none;\">\n",
              "\n",
              "  <svg xmlns=\"http://www.w3.org/2000/svg\" height=\"24px\" viewBox=\"0 -960 960 960\">\n",
              "    <path d=\"M120-120v-720h720v720H120Zm60-500h600v-160H180v160Zm220 220h160v-160H400v160Zm0 220h160v-160H400v160ZM180-400h160v-160H180v160Zm440 0h160v-160H620v160ZM180-180h160v-160H180v160Zm440 0h160v-160H620v160Z\"/>\n",
              "  </svg>\n",
              "    </button>\n",
              "\n",
              "  <style>\n",
              "    .colab-df-container {\n",
              "      display:flex;\n",
              "      gap: 12px;\n",
              "    }\n",
              "\n",
              "    .colab-df-convert {\n",
              "      background-color: #E8F0FE;\n",
              "      border: none;\n",
              "      border-radius: 50%;\n",
              "      cursor: pointer;\n",
              "      display: none;\n",
              "      fill: #1967D2;\n",
              "      height: 32px;\n",
              "      padding: 0 0 0 0;\n",
              "      width: 32px;\n",
              "    }\n",
              "\n",
              "    .colab-df-convert:hover {\n",
              "      background-color: #E2EBFA;\n",
              "      box-shadow: 0px 1px 2px rgba(60, 64, 67, 0.3), 0px 1px 3px 1px rgba(60, 64, 67, 0.15);\n",
              "      fill: #174EA6;\n",
              "    }\n",
              "\n",
              "    .colab-df-buttons div {\n",
              "      margin-bottom: 4px;\n",
              "    }\n",
              "\n",
              "    [theme=dark] .colab-df-convert {\n",
              "      background-color: #3B4455;\n",
              "      fill: #D2E3FC;\n",
              "    }\n",
              "\n",
              "    [theme=dark] .colab-df-convert:hover {\n",
              "      background-color: #434B5C;\n",
              "      box-shadow: 0px 1px 3px 1px rgba(0, 0, 0, 0.15);\n",
              "      filter: drop-shadow(0px 1px 2px rgba(0, 0, 0, 0.3));\n",
              "      fill: #FFFFFF;\n",
              "    }\n",
              "  </style>\n",
              "\n",
              "    <script>\n",
              "      const buttonEl =\n",
              "        document.querySelector('#df-e8425f1b-7788-413c-9cbc-b96d305c1b44 button.colab-df-convert');\n",
              "      buttonEl.style.display =\n",
              "        google.colab.kernel.accessAllowed ? 'block' : 'none';\n",
              "\n",
              "      async function convertToInteractive(key) {\n",
              "        const element = document.querySelector('#df-e8425f1b-7788-413c-9cbc-b96d305c1b44');\n",
              "        const dataTable =\n",
              "          await google.colab.kernel.invokeFunction('convertToInteractive',\n",
              "                                                    [key], {});\n",
              "        if (!dataTable) return;\n",
              "\n",
              "        const docLinkHtml = 'Like what you see? Visit the ' +\n",
              "          '<a target=\"_blank\" href=https://colab.research.google.com/notebooks/data_table.ipynb>data table notebook</a>'\n",
              "          + ' to learn more about interactive tables.';\n",
              "        element.innerHTML = '';\n",
              "        dataTable['output_type'] = 'display_data';\n",
              "        await google.colab.output.renderOutput(dataTable, element);\n",
              "        const docLink = document.createElement('div');\n",
              "        docLink.innerHTML = docLinkHtml;\n",
              "        element.appendChild(docLink);\n",
              "      }\n",
              "    </script>\n",
              "  </div>\n",
              "\n",
              "\n",
              "<div id=\"df-5dc7ffa2-1b21-4dd1-aa7b-34f0f65daa63\">\n",
              "  <button class=\"colab-df-quickchart\" onclick=\"quickchart('df-5dc7ffa2-1b21-4dd1-aa7b-34f0f65daa63')\"\n",
              "            title=\"Suggest charts\"\n",
              "            style=\"display:none;\">\n",
              "\n",
              "<svg xmlns=\"http://www.w3.org/2000/svg\" height=\"24px\"viewBox=\"0 0 24 24\"\n",
              "     width=\"24px\">\n",
              "    <g>\n",
              "        <path d=\"M19 3H5c-1.1 0-2 .9-2 2v14c0 1.1.9 2 2 2h14c1.1 0 2-.9 2-2V5c0-1.1-.9-2-2-2zM9 17H7v-7h2v7zm4 0h-2V7h2v10zm4 0h-2v-4h2v4z\"/>\n",
              "    </g>\n",
              "</svg>\n",
              "  </button>\n",
              "\n",
              "<style>\n",
              "  .colab-df-quickchart {\n",
              "      --bg-color: #E8F0FE;\n",
              "      --fill-color: #1967D2;\n",
              "      --hover-bg-color: #E2EBFA;\n",
              "      --hover-fill-color: #174EA6;\n",
              "      --disabled-fill-color: #AAA;\n",
              "      --disabled-bg-color: #DDD;\n",
              "  }\n",
              "\n",
              "  [theme=dark] .colab-df-quickchart {\n",
              "      --bg-color: #3B4455;\n",
              "      --fill-color: #D2E3FC;\n",
              "      --hover-bg-color: #434B5C;\n",
              "      --hover-fill-color: #FFFFFF;\n",
              "      --disabled-bg-color: #3B4455;\n",
              "      --disabled-fill-color: #666;\n",
              "  }\n",
              "\n",
              "  .colab-df-quickchart {\n",
              "    background-color: var(--bg-color);\n",
              "    border: none;\n",
              "    border-radius: 50%;\n",
              "    cursor: pointer;\n",
              "    display: none;\n",
              "    fill: var(--fill-color);\n",
              "    height: 32px;\n",
              "    padding: 0;\n",
              "    width: 32px;\n",
              "  }\n",
              "\n",
              "  .colab-df-quickchart:hover {\n",
              "    background-color: var(--hover-bg-color);\n",
              "    box-shadow: 0 1px 2px rgba(60, 64, 67, 0.3), 0 1px 3px 1px rgba(60, 64, 67, 0.15);\n",
              "    fill: var(--button-hover-fill-color);\n",
              "  }\n",
              "\n",
              "  .colab-df-quickchart-complete:disabled,\n",
              "  .colab-df-quickchart-complete:disabled:hover {\n",
              "    background-color: var(--disabled-bg-color);\n",
              "    fill: var(--disabled-fill-color);\n",
              "    box-shadow: none;\n",
              "  }\n",
              "\n",
              "  .colab-df-spinner {\n",
              "    border: 2px solid var(--fill-color);\n",
              "    border-color: transparent;\n",
              "    border-bottom-color: var(--fill-color);\n",
              "    animation:\n",
              "      spin 1s steps(1) infinite;\n",
              "  }\n",
              "\n",
              "  @keyframes spin {\n",
              "    0% {\n",
              "      border-color: transparent;\n",
              "      border-bottom-color: var(--fill-color);\n",
              "      border-left-color: var(--fill-color);\n",
              "    }\n",
              "    20% {\n",
              "      border-color: transparent;\n",
              "      border-left-color: var(--fill-color);\n",
              "      border-top-color: var(--fill-color);\n",
              "    }\n",
              "    30% {\n",
              "      border-color: transparent;\n",
              "      border-left-color: var(--fill-color);\n",
              "      border-top-color: var(--fill-color);\n",
              "      border-right-color: var(--fill-color);\n",
              "    }\n",
              "    40% {\n",
              "      border-color: transparent;\n",
              "      border-right-color: var(--fill-color);\n",
              "      border-top-color: var(--fill-color);\n",
              "    }\n",
              "    60% {\n",
              "      border-color: transparent;\n",
              "      border-right-color: var(--fill-color);\n",
              "    }\n",
              "    80% {\n",
              "      border-color: transparent;\n",
              "      border-right-color: var(--fill-color);\n",
              "      border-bottom-color: var(--fill-color);\n",
              "    }\n",
              "    90% {\n",
              "      border-color: transparent;\n",
              "      border-bottom-color: var(--fill-color);\n",
              "    }\n",
              "  }\n",
              "</style>\n",
              "\n",
              "  <script>\n",
              "    async function quickchart(key) {\n",
              "      const quickchartButtonEl =\n",
              "        document.querySelector('#' + key + ' button');\n",
              "      quickchartButtonEl.disabled = true;  // To prevent multiple clicks.\n",
              "      quickchartButtonEl.classList.add('colab-df-spinner');\n",
              "      try {\n",
              "        const charts = await google.colab.kernel.invokeFunction(\n",
              "            'suggestCharts', [key], {});\n",
              "      } catch (error) {\n",
              "        console.error('Error during call to suggestCharts:', error);\n",
              "      }\n",
              "      quickchartButtonEl.classList.remove('colab-df-spinner');\n",
              "      quickchartButtonEl.classList.add('colab-df-quickchart-complete');\n",
              "    }\n",
              "    (() => {\n",
              "      let quickchartButtonEl =\n",
              "        document.querySelector('#df-5dc7ffa2-1b21-4dd1-aa7b-34f0f65daa63 button');\n",
              "      quickchartButtonEl.style.display =\n",
              "        google.colab.kernel.accessAllowed ? 'block' : 'none';\n",
              "    })();\n",
              "  </script>\n",
              "</div>\n",
              "\n",
              "    </div>\n",
              "  </div>\n"
            ],
            "application/vnd.google.colaboratory.intrinsic+json": {
              "type": "dataframe",
              "variable_name": "subset_df"
            }
          },
          "metadata": {},
          "execution_count": 15
        }
      ]
    },
    {
      "cell_type": "code",
      "source": [
        "subset_df[\"Errors?\"].unique()"
      ],
      "metadata": {
        "trusted": true,
        "id": "FSkl6aCAdISw",
        "colab": {
          "base_uri": "https://localhost:8080/"
        },
        "outputId": "a752b4ae-73ea-4dfb-ebc9-241958bdc54f"
      },
      "execution_count": null,
      "outputs": [
        {
          "output_type": "execute_result",
          "data": {
            "text/plain": [
              "array(['No Error', 'Bad PIN,', 'Insufficient Balance,',\n",
              "       'Technical Glitch,', 'Bad Card Number,', 'Bad CVV,',\n",
              "       'Bad Expiration,', 'Bad Zipcode,',\n",
              "       'Insufficient Balance,Technical Glitch,',\n",
              "       'Bad Card Number,Bad CVV,', 'Bad CVV,Insufficient Balance,',\n",
              "       'Bad Card Number,Insufficient Balance,',\n",
              "       'Bad PIN,Technical Glitch,', 'Bad PIN,Insufficient Balance,',\n",
              "       'Bad Card Number,Bad Expiration,', 'Bad Expiration,Bad CVV,',\n",
              "       'Bad Expiration,Insufficient Balance,',\n",
              "       'Bad Zipcode,Insufficient Balance,', 'Bad CVV,Technical Glitch,',\n",
              "       'Bad Expiration,Technical Glitch,',\n",
              "       'Bad Card Number,Technical Glitch,'], dtype=object)"
            ]
          },
          "metadata": {},
          "execution_count": 16
        }
      ]
    },
    {
      "cell_type": "code",
      "source": [
        "subset_df[\"Use Chip\"].unique()"
      ],
      "metadata": {
        "trusted": true,
        "id": "KXafMCKydISw",
        "colab": {
          "base_uri": "https://localhost:8080/"
        },
        "outputId": "4836c5bf-30d0-4a1c-ad46-b824a150b7a0"
      },
      "execution_count": null,
      "outputs": [
        {
          "output_type": "execute_result",
          "data": {
            "text/plain": [
              "array(['Chip Transaction', 'Online Transaction', 'Swipe Transaction'],\n",
              "      dtype=object)"
            ]
          },
          "metadata": {},
          "execution_count": 17
        }
      ]
    },
    {
      "cell_type": "code",
      "source": [
        "subset_df[\"Merchant City\"].unique()"
      ],
      "metadata": {
        "trusted": true,
        "id": "HDMlVQmfdISw",
        "colab": {
          "base_uri": "https://localhost:8080/"
        },
        "outputId": "a189b48f-e495-44ae-a9b3-c60cdbcd4539"
      },
      "execution_count": null,
      "outputs": [
        {
          "output_type": "execute_result",
          "data": {
            "text/plain": [
              "array(['Harwood', ' ONLINE', 'Hemet', ..., 'Sacred Heart', 'Lyndell',\n",
              "       'Steward'], dtype=object)"
            ]
          },
          "metadata": {},
          "execution_count": 18
        }
      ]
    },
    {
      "cell_type": "code",
      "source": [
        "# Label encoding is a method of converting categorical variables into numerical variables\n",
        "subset_df[\"Merchant City\"]=LabelEncoder().fit_transform(subset_df[\"Merchant City\"])\n",
        "subset_df[\"Use Chip\"]=LabelEncoder().fit_transform(subset_df[\"Use Chip\"])\n",
        "subset_df[\"Errors?\"]=LabelEncoder().fit_transform(subset_df[\"Errors?\"])"
      ],
      "metadata": {
        "trusted": true,
        "id": "S26EMDGtdISw"
      },
      "execution_count": null,
      "outputs": []
    },
    {
      "cell_type": "code",
      "source": [
        "subset_df[\"Errors?\"].unique()"
      ],
      "metadata": {
        "trusted": true,
        "id": "MbwDOC0EdISw",
        "colab": {
          "base_uri": "https://localhost:8080/"
        },
        "outputId": "19968bae-c2c4-416a-ad3e-0971c3b3c5a6"
      },
      "execution_count": null,
      "outputs": [
        {
          "output_type": "execute_result",
          "data": {
            "text/plain": [
              "array([19, 12, 17, 20,  3,  0,  8, 15, 18,  4,  1,  6, 14, 13,  5,  9, 10,\n",
              "       16,  2, 11,  7])"
            ]
          },
          "metadata": {},
          "execution_count": 20
        }
      ]
    },
    {
      "cell_type": "code",
      "source": [
        "subset_df[\"Use Chip\"].unique()"
      ],
      "metadata": {
        "trusted": true,
        "id": "TS3f3kjHdISw",
        "colab": {
          "base_uri": "https://localhost:8080/"
        },
        "outputId": "55f5ce25-d8b4-4268-b7b5-cc476bcf05b8"
      },
      "execution_count": null,
      "outputs": [
        {
          "output_type": "execute_result",
          "data": {
            "text/plain": [
              "array([0, 1, 2])"
            ]
          },
          "metadata": {},
          "execution_count": 21
        }
      ]
    },
    {
      "cell_type": "code",
      "source": [
        "subset_df[\"Merchant City\"].unique()"
      ],
      "metadata": {
        "trusted": true,
        "id": "gBmPyxWwdISw",
        "colab": {
          "base_uri": "https://localhost:8080/"
        },
        "outputId": "0d05a41d-3e95-4be4-9a8d-b69b79152e18"
      },
      "execution_count": null,
      "outputs": [
        {
          "output_type": "execute_result",
          "data": {
            "text/plain": [
              "array([4165,    0, 4256, ..., 8615, 5738, 9495])"
            ]
          },
          "metadata": {},
          "execution_count": 22
        }
      ]
    },
    {
      "cell_type": "code",
      "source": [
        "subset_df.info()"
      ],
      "metadata": {
        "trusted": true,
        "id": "1F2DpYdtdISw",
        "colab": {
          "base_uri": "https://localhost:8080/"
        },
        "outputId": "6be35eff-79dc-4574-c5b8-a61f9190be7b"
      },
      "execution_count": null,
      "outputs": [
        {
          "output_type": "stream",
          "name": "stdout",
          "text": [
            "<class 'pandas.core.frame.DataFrame'>\n",
            "Index: 2438690 entries, 18199893 to 23041253\n",
            "Data columns (total 14 columns):\n",
            " #   Column         Dtype  \n",
            "---  ------         -----  \n",
            " 0   User           int64  \n",
            " 1   Card           int64  \n",
            " 2   Year           int64  \n",
            " 3   Month          int64  \n",
            " 4   Day            int64  \n",
            " 5   Amount         float64\n",
            " 6   Use Chip       int64  \n",
            " 7   Merchant Name  int64  \n",
            " 8   Merchant City  int64  \n",
            " 9   MCC            int64  \n",
            " 10  Errors?        int64  \n",
            " 11  Is Fraud?      int64  \n",
            " 12  Hours          int64  \n",
            " 13  Minutes        int64  \n",
            "dtypes: float64(1), int64(13)\n",
            "memory usage: 279.1 MB\n"
          ]
        }
      ]
    },
    {
      "cell_type": "markdown",
      "source": [
        "In order to start implementation of model we are going to visualize the data to understand different trends like channel of transactions ( online, swipe or chip and pin), amount of transactions, usage of card for transactions over the year and correlation matrix."
      ],
      "metadata": {
        "id": "HTNPIO8hdISx"
      }
    },
    {
      "cell_type": "code",
      "source": [
        "#Histogram of transactions\n",
        "plt.hist(subset_df['Amount'], bins=200)\n",
        "plt.xlabel('Transaction Amount')\n",
        "plt.xlim(0, 400)  # set the lower and upper bounds of the x-axis\n",
        "plt.ylabel('# of transactions')\n",
        "plt.title('Histogram of Transaction Amounts')\n",
        "plt.show()"
      ],
      "metadata": {
        "trusted": true,
        "id": "WbJvNQgBdISx",
        "colab": {
          "base_uri": "https://localhost:8080/",
          "height": 472
        },
        "outputId": "8b4101b2-0463-4cf5-9687-f60e6668e367"
      },
      "execution_count": null,
      "outputs": [
        {
          "output_type": "display_data",
          "data": {
            "text/plain": [
              "<Figure size 640x480 with 1 Axes>"
            ],
            "image/png": "[encoded data removed]"
          },
          "metadata": {}
        }
      ]
    },
    {
      "cell_type": "code",
      "source": [
        "#transaction count per year\n",
        "plt.bar(subset_df['Year'].unique(), subset_df['Year'].value_counts())\n",
        "plt.xlabel('Year')\n",
        "plt.ylabel('Transaction Count')\n",
        "plt.title('Bar Plot of Transaction Count by Year')\n",
        "plt.show()"
      ],
      "metadata": {
        "trusted": true,
        "id": "6SumFss9dISx",
        "colab": {
          "base_uri": "https://localhost:8080/",
          "height": 472
        },
        "outputId": "06a06cbc-f59b-4ae5-de98-0b8c9dc86453"
      },
      "execution_count": null,
      "outputs": [
        {
          "output_type": "display_data",
          "data": {
            "text/plain": [
              "<Figure size 640x480 with 1 Axes>"
            ],
            "image/png": "[encoded data removed]"
          },
          "metadata": {}
        }
      ]
    },
    {
      "cell_type": "code",
      "source": [
        "#Transaction amount by fraud\n",
        "subset_df['Amount'] = pd.to_numeric(subset_df['Amount'], errors='coerce')\n",
        "subset_df.boxplot(column='Amount', by='Is Fraud?')\n",
        "plt.title('Box Plot of Transaction Amounts by Fraud Status')\n",
        "plt.suptitle('')\n",
        "plt.show()"
      ],
      "metadata": {
        "trusted": true,
        "id": "x4CBAX5ydISx",
        "colab": {
          "base_uri": "https://localhost:8080/",
          "height": 462
        },
        "outputId": "e12b5918-45e3-4e06-cf28-1589e5f496bb"
      },
      "execution_count": null,
      "outputs": [
        {
          "output_type": "display_data",
          "data": {
            "text/plain": [
              "<Figure size 640x480 with 1 Axes>"
            ],
            "image/png": "[encoded data removed]"
          },
          "metadata": {}
        }
      ]
    },
    {
      "cell_type": "code",
      "source": [
        "# The below box plot shows that most of the fraudulent transactions are concentrated to lower amount.\n",
        "# Count of Fraudulent transactions by Month\n",
        "fraud_by_month = subset_df[subset_df['Is Fraud?'] == 1].groupby('Month')['Is Fraud?'].count()\n",
        "sns.barplot(x=fraud_by_month.index, y=fraud_by_month.values)\n",
        "plt.title('Count of Fraudulent transactions by Month')\n",
        "plt.xlabel('Month')\n",
        "plt.ylabel('Count')\n",
        "plt.show()"
      ],
      "metadata": {
        "trusted": true,
        "id": "6OKUlbtzdISx",
        "colab": {
          "base_uri": "https://localhost:8080/",
          "height": 472
        },
        "outputId": "7d44968c-1a94-469e-9ba1-ccbd0578e055"
      },
      "execution_count": null,
      "outputs": [
        {
          "output_type": "display_data",
          "data": {
            "text/plain": [
              "<Figure size 640x480 with 1 Axes>"
            ],
            "image/png": "[encoded data removed]"
          },
          "metadata": {}
        }
      ]
    },
    {
      "cell_type": "code",
      "source": [
        "#plot for chip usage\n",
        "sns.countplot(x='Use Chip', data=subset_df)\n",
        "plt.xlabel('Transaction Channel')\n",
        "plt.ylabel('# of transactions')\n",
        "plt.title('Count Plot of Transactions by channel')\n",
        "plt.show()"
      ],
      "metadata": {
        "trusted": true,
        "id": "gJBWYyGQdISx",
        "colab": {
          "base_uri": "https://localhost:8080/",
          "height": 472
        },
        "outputId": "c6421d1b-b7eb-43d8-ca18-1bc8cca72098"
      },
      "execution_count": null,
      "outputs": [
        {
          "output_type": "display_data",
          "data": {
            "text/plain": [
              "<Figure size 640x480 with 1 Axes>"
            ],
            "image/png": "[encoded data removed]"
          },
          "metadata": {}
        }
      ]
    },
    {
      "cell_type": "code",
      "source": [
        "#Heatmap of transaction counts by year and month\n",
        "counts = subset_df.groupby(['Year', 'Month']).size().unstack()\n",
        "sns.heatmap(counts, cmap='Blues')\n",
        "plt.xlabel('Month')\n",
        "plt.ylabel('Year')\n",
        "plt.title('Heatmap of Transaction Counts by Year and Month')\n",
        "plt.show()"
      ],
      "metadata": {
        "trusted": true,
        "id": "R-3SJ7ErdISx",
        "colab": {
          "base_uri": "https://localhost:8080/",
          "height": 472
        },
        "outputId": "0d0f941e-10c1-42fe-fc5b-2ebcf0734f53"
      },
      "execution_count": null,
      "outputs": [
        {
          "output_type": "display_data",
          "data": {
            "text/plain": [
              "<Figure size 640x480 with 2 Axes>"
            ],
            "image/png": "[encoded data removed]"
          },
          "metadata": {}
        }
      ]
    },
    {
      "cell_type": "code",
      "source": [
        "# Heatmap of correlation between numerical columns\n",
        "corr = subset_df[['User',  'Amount', 'Merchant Name']].corr()\n",
        "sns.heatmap(corr, annot=True, cmap='coolwarm')\n",
        "\n",
        "plt.title('Correlation between User, Amount, Merchant and Zip')\n",
        "plt.show()"
      ],
      "metadata": {
        "trusted": true,
        "id": "Xb2IzKUodISx",
        "colab": {
          "base_uri": "https://localhost:8080/",
          "height": 452
        },
        "outputId": "54167e5e-ba9b-4570-9401-719f345c93f4"
      },
      "execution_count": null,
      "outputs": [
        {
          "output_type": "display_data",
          "data": {
            "text/plain": [
              "<Figure size 640x480 with 2 Axes>"
            ],
            "image/png": "[encoded data removed]"
          },
          "metadata": {}
        }
      ]
    },
    {
      "cell_type": "markdown",
      "source": [
        "In this code, I split the resampled dataset, containing balanced samples, into training (80%) and testing (20%) sets."
      ],
      "metadata": {
        "id": "h0Z-KrFLdIS1"
      }
    },
    {
      "cell_type": "code",
      "source": [
        "from sklearn.model_selection import train_test_split\n",
        "\n",
        "# Defining features (X) and target variable (y)\n",
        "X = subset_df.drop(\"Is Fraud?\", axis=1)\n",
        "y = subset_df[\"Is Fraud?\"]\n",
        "\n",
        "# Spliting the resampled data into training (80%) and testing (20%) sets\n",
        "X_train_b, X_test, y_train_b, y_test = train_test_split(X, y, test_size=0.2, random_state=42)\n",
        "\n",
        "# Checking the shapes of the resulting subsets\n",
        "print(\"Training set shape:\", X_train_b.shape)\n",
        "print(\"Testing set shape:\", X_test.shape)"
      ],
      "metadata": {
        "trusted": true,
        "id": "0XrbhZ1ZdIS1",
        "colab": {
          "base_uri": "https://localhost:8080/"
        },
        "outputId": "eef38d51-289e-410b-d3a6-08b769c57ddf"
      },
      "execution_count": null,
      "outputs": [
        {
          "output_type": "stream",
          "name": "stdout",
          "text": [
            "Training set shape: (1950952, 13)\n",
            "Testing set shape: (487738, 13)\n"
          ]
        }
      ]
    },
    {
      "cell_type": "markdown",
      "source": [
        "The resampling process involves applying SMOTE to our feature matrix (X) and target variable (y), resulting in a new DataFrame, 'resampled_df.' This dataset contains a balanced representation of both classes, providing our model with a more comprehensive and unbiased training dataset. This step is critical for the success of our fraud detection efforts."
      ],
      "metadata": {
        "id": "u7VRzkX1dIS1"
      }
    },
    {
      "cell_type": "code",
      "source": [
        "from imblearn.over_sampling import SMOTE\n",
        "import pandas as pd\n",
        "\n",
        "# Apply SMOTE\n",
        "smote = SMOTE(random_state=42)\n",
        "X_train_resampled, y_train_resampled = smote.fit_resample(X_train_b, y_train_b)\n",
        "\n",
        "# Create a DataFrame for the resampled train data\n",
        "train_df = pd.concat([pd.DataFrame(X_train_resampled, columns=X.columns), pd.DataFrame({\"Is Fraud?\": y_train_resampled})], axis=1)\n",
        "\n",
        "# Create a DataFrame for the test data\n",
        "test_df = pd.concat([pd.DataFrame(X_test, columns=X.columns), pd.DataFrame({\"Is Fraud?\": y_test})], axis=1)\n",
        "\n",
        "# Concatenate both the resampled train and test data\n",
        "resampled_df = pd.concat([train_df, test_df], axis=0, ignore_index=True)\n",
        "\n",
        "# Checking the Fraud distribution after SMOTE\n",
        "print(resampled_df[\"Is Fraud?\"].value_counts())\n",
        "\n",
        "# Checking the Fraud distribution after SMOTE\n",
        "print(y_train_resampled.value_counts())"
      ],
      "metadata": {
        "trusted": true,
        "id": "WeE5GqwXdIS1",
        "colab": {
          "base_uri": "https://localhost:8080/"
        },
        "outputId": "d68999a2-2070-41be-debe-c61537500044"
      },
      "execution_count": null,
      "outputs": [
        {
          "output_type": "stream",
          "name": "stdout",
          "text": [
            "Is Fraud?\n",
            "0    2435655\n",
            "1    1949135\n",
            "Name: count, dtype: int64\n",
            "Is Fraud?\n",
            "0    1948526\n",
            "1    1948526\n",
            "Name: count, dtype: int64\n"
          ]
        }
      ]
    },
    {
      "cell_type": "code",
      "source": [
        "resampled_df.dtypes"
      ],
      "metadata": {
        "trusted": true,
        "id": "lsPpc73BdIS1",
        "colab": {
          "base_uri": "https://localhost:8080/",
          "height": 523
        },
        "outputId": "34e234e1-47ff-4984-89c7-1ce0f70913fd"
      },
      "execution_count": null,
      "outputs": [
        {
          "output_type": "execute_result",
          "data": {
            "text/plain": [
              "User               int64\n",
              "Card               int64\n",
              "Year               int64\n",
              "Month              int64\n",
              "Day                int64\n",
              "Amount           float64\n",
              "Use Chip           int64\n",
              "Merchant Name      int64\n",
              "Merchant City      int64\n",
              "MCC                int64\n",
              "Errors?            int64\n",
              "Hours              int64\n",
              "Minutes            int64\n",
              "Is Fraud?          int64\n",
              "dtype: object"
            ],
            "text/html": [
              "<div>\n",
              "<style scoped>\n",
              "    .dataframe tbody tr th:only-of-type {\n",
              "        vertical-align: middle;\n",
              "    }\n",
              "\n",
              "    .dataframe tbody tr th {\n",
              "        vertical-align: top;\n",
              "    }\n",
              "\n",
              "    .dataframe thead th {\n",
              "        text-align: right;\n",
              "    }\n",
              "</style>\n",
              "<table border=\"1\" class=\"dataframe\">\n",
              "  <thead>\n",
              "    <tr style=\"text-align: right;\">\n",
              "      <th></th>\n",
              "      <th>0</th>\n",
              "    </tr>\n",
              "  </thead>\n",
              "  <tbody>\n",
              "    <tr>\n",
              "      <th>User</th>\n",
              "      <td>int64</td>\n",
              "    </tr>\n",
              "    <tr>\n",
              "      <th>Card</th>\n",
              "      <td>int64</td>\n",
              "    </tr>\n",
              "    <tr>\n",
              "      <th>Year</th>\n",
              "      <td>int64</td>\n",
              "    </tr>\n",
              "    <tr>\n",
              "      <th>Month</th>\n",
              "      <td>int64</td>\n",
              "    </tr>\n",
              "    <tr>\n",
              "      <th>Day</th>\n",
              "      <td>int64</td>\n",
              "    </tr>\n",
              "    <tr>\n",
              "      <th>Amount</th>\n",
              "      <td>float64</td>\n",
              "    </tr>\n",
              "    <tr>\n",
              "      <th>Use Chip</th>\n",
              "      <td>int64</td>\n",
              "    </tr>\n",
              "    <tr>\n",
              "      <th>Merchant Name</th>\n",
              "      <td>int64</td>\n",
              "    </tr>\n",
              "    <tr>\n",
              "      <th>Merchant City</th>\n",
              "      <td>int64</td>\n",
              "    </tr>\n",
              "    <tr>\n",
              "      <th>MCC</th>\n",
              "      <td>int64</td>\n",
              "    </tr>\n",
              "    <tr>\n",
              "      <th>Errors?</th>\n",
              "      <td>int64</td>\n",
              "    </tr>\n",
              "    <tr>\n",
              "      <th>Hours</th>\n",
              "      <td>int64</td>\n",
              "    </tr>\n",
              "    <tr>\n",
              "      <th>Minutes</th>\n",
              "      <td>int64</td>\n",
              "    </tr>\n",
              "    <tr>\n",
              "      <th>Is Fraud?</th>\n",
              "      <td>int64</td>\n",
              "    </tr>\n",
              "  </tbody>\n",
              "</table>\n",
              "</div><br><label><b>dtype:</b> object</label>"
            ]
          },
          "metadata": {},
          "execution_count": 33
        }
      ]
    },
    {
      "cell_type": "code",
      "source": [
        "resampled_df.shape"
      ],
      "metadata": {
        "trusted": true,
        "id": "7ht0DtomdIS1",
        "colab": {
          "base_uri": "https://localhost:8080/"
        },
        "outputId": "abd6fd89-609f-4b55-f808-01123d15c082"
      },
      "execution_count": null,
      "outputs": [
        {
          "output_type": "execute_result",
          "data": {
            "text/plain": [
              "(4384790, 14)"
            ]
          },
          "metadata": {},
          "execution_count": 34
        }
      ]
    },
    {
      "cell_type": "markdown",
      "source": [
        "I transform the numeric features using the fitted scaler, ensuring that they have a mean of 0 and a standard deviation of 1"
      ],
      "metadata": {
        "id": "9tKb8EsvdIS1"
      }
    },
    {
      "cell_type": "code",
      "source": [
        "from sklearn.preprocessing import StandardScaler\n",
        "\n",
        "\n",
        "numeric_features = train_df.columns[:-1]  # Exclude the target column\n",
        "\n",
        "# Initialize the StandardScaler\n",
        "scaler = StandardScaler()\n",
        "\n",
        "# Fit the scaler to numeric features\n",
        "scaler.fit(train_df[numeric_features])\n",
        "\n",
        "# Transforming numeric features using the scaler\n",
        "train_df[numeric_features] = scaler.transform(train_df[numeric_features])"
      ],
      "metadata": {
        "trusted": true,
        "id": "MsjbgNfTdIS1"
      },
      "execution_count": null,
      "outputs": []
    },
    {
      "cell_type": "code",
      "source": [
        "# After scaling\n",
        "print(train_df.head())"
      ],
      "metadata": {
        "trusted": true,
        "id": "o4MaGLpedIS1",
        "colab": {
          "base_uri": "https://localhost:8080/"
        },
        "outputId": "cd52bf58-3861-441c-ef4b-1595b8de9b5f"
      },
      "execution_count": null,
      "outputs": [
        {
          "output_type": "stream",
          "name": "stdout",
          "text": [
            "       User      Card      Year     Month       Day    Amount  Use Chip  \\\n",
            "0 -1.795774 -0.973287 -1.267148  0.195257  1.928491  0.268980  1.123863   \n",
            "1  0.972915  2.093925  0.031188  1.455415  0.066710 -0.194034  1.123863   \n",
            "2 -1.108223 -0.206484  0.896746 -0.119782 -1.050358  1.813082 -1.554158   \n",
            "3  1.560661 -0.206484  0.896746  1.455415 -1.050358 -0.299546 -1.554158   \n",
            "4  1.346263 -0.206484  0.463967 -0.749861 -1.298595  0.280397  1.123863   \n",
            "\n",
            "   Merchant Name  Merchant City       MCC   Errors?     Hours   Minutes  \\\n",
            "0      -0.858539       0.963347  0.161002  0.160545  2.120569  1.836113   \n",
            "1       0.417587       0.732334  0.455187  0.160545  1.202732  0.692612   \n",
            "2      -0.341334      -0.883669  2.606412  0.160545  0.514354  0.565556   \n",
            "3      -0.639042      -0.526525  2.638859  0.160545  2.120569  0.374972   \n",
            "4      -1.307147       0.713810 -0.099654  0.160545  0.743813  1.518474   \n",
            "\n",
            "   Is Fraud?  \n",
            "0          0  \n",
            "1          0  \n",
            "2          0  \n",
            "3          0  \n",
            "4          0  \n"
          ]
        }
      ]
    },
    {
      "cell_type": "code",
      "source": [
        "X_train_scaled = scaler.transform(X_train_resampled)\n",
        "X_test_scaled = scaler.transform(X_test)\n",
        "y_train = y_train_resampled\n",
        "y_test = y_test\n",
        "\n",
        "# Checking the first few rows of the scaled training and testing sets\n",
        "print(\"Scaled Training Data:\")\n",
        "print(X_train_scaled[:5])\n",
        "\n",
        "print(\"Scaled Testing Data:\")\n",
        "print(X_test_scaled[:5])"
      ],
      "metadata": {
        "trusted": true,
        "id": "eK5bRFLzdIS1",
        "colab": {
          "base_uri": "https://localhost:8080/"
        },
        "outputId": "dbe580a4-459e-4f1f-ef04-8e5eb3db89f5"
      },
      "execution_count": null,
      "outputs": [
        {
          "output_type": "stream",
          "name": "stdout",
          "text": [
            "Scaled Training Data:\n",
            "[[-1.79577418 -0.97328671 -1.26714788  0.19525735  1.92849077  0.26898046\n",
            "   1.1238634  -0.85853888  0.9633475   0.16100245  0.16054522  2.12056859\n",
            "   1.83611328]\n",
            " [ 0.97291481  2.09392471  0.03118825  1.45541519  0.06671041 -0.19403363\n",
            "   1.1238634   0.41758743  0.7323342   0.45518706  0.16054522  1.20273165\n",
            "   0.69261161]\n",
            " [-1.10822258 -0.20648385  0.89674567 -0.11978211 -1.05035781  1.81308209\n",
            "  -1.55415805 -0.34133383 -0.88366919  2.60641203  0.16054522  0.51435395\n",
            "   0.56555587]\n",
            " [ 1.56066053 -0.20648385  0.89674567  1.45541519 -1.05035781 -0.29954562\n",
            "  -1.55415805 -0.63904199 -0.52652481  2.63885887  0.16054522  2.12056859\n",
            "   0.37497225]\n",
            " [ 1.34626272 -0.20648385  0.46396696 -0.74986103 -1.29859519  0.28039725\n",
            "   1.1238634  -1.30714709  0.71380955 -0.09965377  0.16054522  0.74381318\n",
            "   1.51847392]]\n",
            "Scaled Testing Data:\n",
            "[[-1.77174684  0.560319    0.46396696 -0.43482157 -1.67095127 -0.22417991\n",
            "  -0.21514732 -0.39723358 -0.96703012 -0.65773928  0.16054522 -0.63294222\n",
            "  -0.95911303]\n",
            " [ 1.58653613 -0.97328671  0.2475776  -0.11978211 -1.29859519 -0.14672485\n",
            "   1.1238634   0.80675644  1.67354993  0.4541055   0.16054522  2.12056859\n",
            "  -0.06972284]\n",
            " [-0.51678034  0.560319   -0.83436917 -0.74986103 -1.54683257 -0.1029232\n",
            "   1.1238634   0.20399473  1.34392011 -0.62529245  0.16054522  0.74381318\n",
            "  -0.26030645]\n",
            " [-1.17291157 -0.97328671 -2.1327053   0.51029681  0.43906648 -0.38617888\n",
            "   1.1238634   1.00783331  0.77183529  0.45626862  0.16054522  0.05543548\n",
            "  -1.46733599]\n",
            " [-0.1914871  -0.97328671  1.32952438  0.82533627  0.31494779 -0.03666107\n",
            "  -0.21514732  0.38057243 -0.96703012  2.73619936  0.16054522 -0.17402375\n",
            "   1.70905754]]\n"
          ]
        }
      ]
    },
    {
      "cell_type": "markdown",
      "source": [
        "In this code, I defined and train a neural network for fraud detection using TensorFlow and Keras.\n",
        "I started by importing necessary libraries for deep learning and metrics evaluation.\n",
        "Next, I defined custom metrics functions for recall, precision, and F1-score, which will be used for model evaluation.\n",
        "Then, I created the neural network architecture using a Sequential model with input, hidden, and output layers.\n",
        "After defining the architecture, I compile the model using the Adam optimizer and binary cross-entropy loss function.\n",
        "Notably, I included custom metrics such as accuracy, recall, precision, and F1-score for model evaluation.\n",
        "Finally, I trained the model on the scaled training with batch size 128."
      ],
      "metadata": {
        "id": "xjqMFBrJdIS2"
      }
    },
    {
      "cell_type": "code",
      "source": [
        "#import tensorflow as tf\n",
        "#from tensorflow import keras\n",
        "#from keras import backend as K\n",
        "#from sklearn.metrics import accuracy_score, precision_score, recall_score, f1_score, confusion_matrix\n",
        "#from keras.callbacks import EarlyStopping, ModelCheckpoint\n",
        "\n",
        "# Custom metrics for recall, precision, and F1-score\n",
        "#def recall_m(y_true, y_pred):\n",
        "#    true_positives = K.sum(K.round(K.clip(y_true * y_pred, 0, 1)))  #error\n",
        "#    possible_positives = K.sum(K.round(K.clip(y_true, 0, 1)))\n",
        "#    recall = true_positives / (possible_positives + K.epsilon())\n",
        "#    return recall\n",
        "\n",
        "#def precision_m(y_true, y_pred):\n",
        "#    true_positives = K.sum(K.round(K.clip(y_true * y_pred, 0, 1)))\n",
        "#    predicted_positives = K.sum(K.round(K.clip(y_pred, 0, 1)))\n",
        "#    precision = true_positives / (predicted_positives + K.epsilon())\n",
        "#    return precision\n",
        "\n",
        "#def f1_score_m(y_true, y_pred):\n",
        "#    precision = precision_m(y_true, y_pred)\n",
        "#    recall = recall_m(y_true, y_pred)\n",
        "#    return 2 * ((precision * recall) / (precision + recall + K.epsilon()))\n",
        "\n",
        "# Defining the neural network architecture for structured data\n",
        "#model = keras.Sequential([\n",
        "#    keras.layers.Input(shape=(X_train_scaled.shape[1],)),  # Input layer with the number of features\n",
        "#    keras.layers.Dense(64, activation='relu'),  # Hidden layer with 64 neurons\n",
        "#    keras.layers.Dropout(0.2),  # Dropout for regularization\n",
        "#    keras.layers.BatchNormalization(),  # Batch normalization for faster convergence\n",
        "#    keras.layers.Dense(32, activation='relu'),  # Another hidden layer with 32 neurons\n",
        "#    keras.layers.Dropout(0.2),  # Dropout for regularization\n",
        "#    keras.layers.BatchNormalization(),  # Batch normalization\n",
        "#    keras.layers.Dense(1, activation='sigmoid')  # Output layer for binary classification\n",
        "#    ])\n",
        "\n",
        "# Compile the model with optimizer, loss function, and custom metrics\n",
        "#model.compile(optimizer='adam',\n",
        "#              loss='binary_crossentropy',\n",
        "#              metrics=['accuracy', recall_m, precision_m, f1_score_m])\n",
        "\n",
        "# Callbacks for early stopping and saving the best model\n",
        "#checkpoint = ModelCheckpoint(filepath=\"best_model.keras\", monitor='val_accuracy', mode='max', save_best_only=True, verbose=1)\n",
        "#early_stop = EarlyStopping(monitor='val_loss', patience=5, mode='min', verbose=1, restore_best_weights=True)\n",
        "\n",
        "# Train the model on the scaled training data\n",
        "#train = model.fit(X_train_scaled, y_train,\n",
        "#                  epochs=100,\n",
        "#                  batch_size=128,\n",
        "#                  validation_split=0.2,\n",
        "#                  callbacks=[early_stop, checkpoint],\n",
        "#                  verbose=2)\n",
        "\n",
        "# Evaluate the model on the scaled testing data\n",
        "#model.evaluate(X_test_scaled, y_test)"
      ],
      "metadata": {
        "trusted": true,
        "id": "x_jnsw1rdIS2"
      },
      "execution_count": null,
      "outputs": []
    },
    {
      "cell_type": "code",
      "source": [
        "import tensorflow as tf\n",
        "from tensorflow import keras\n",
        "from keras import backend as K\n",
        "from sklearn.metrics import accuracy_score, precision_score, recall_score, f1_score, confusion_matrix\n",
        "from keras.callbacks import EarlyStopping, ModelCheckpoint\n",
        "\n",
        "# Custom metrics for recall, precision, and F1-score using TensorFlow operations\n",
        "def recall_m(y_true, y_pred):\n",
        "    y_true = tf.cast(y_true, tf.float32)  # Convert y_true to float32\n",
        "    true_positives = tf.reduce_sum(tf.round(tf.clip_by_value(y_true * y_pred, 0, 1)))\n",
        "    possible_positives = tf.reduce_sum(tf.round(tf.clip_by_value(y_true, 0, 1)))\n",
        "    recall = true_positives / (possible_positives + tf.keras.backend.epsilon())\n",
        "    return recall\n",
        "\n",
        "def precision_m(y_true, y_pred):\n",
        "    y_true = tf.cast(y_true, tf.float32)  # Convert y_true to float32\n",
        "    true_positives = tf.reduce_sum(tf.round(tf.clip_by_value(y_true * y_pred, 0, 1)))\n",
        "    predicted_positives = tf.reduce_sum(tf.round(tf.clip_by_value(y_pred, 0, 1)))\n",
        "    precision = true_positives / (predicted_positives + tf.keras.backend.epsilon())\n",
        "    return precision\n",
        "\n",
        "def f1_score_m(y_true, y_pred):\n",
        "    precision = precision_m(y_true, y_pred)\n",
        "    recall = recall_m(y_true, y_pred)\n",
        "    return 2 * ((precision * recall) / (precision + recall + tf.keras.backend.epsilon()))\n",
        "\n",
        "# Defining the neural network architecture for structured data\n",
        "model = keras.Sequential([\n",
        "    keras.layers.Input(shape=(X_train_scaled.shape[1],)),  # Input layer with the number of features\n",
        "    keras.layers.Dense(64, activation='relu'),  # Hidden layer with 64 neurons\n",
        "    keras.layers.Dropout(0.2),  # Dropout for regularization\n",
        "    keras.layers.BatchNormalization(),  # Batch normalization for faster convergence\n",
        "    keras.layers.Dense(32, activation='relu'),  # Another hidden layer with 32 neurons\n",
        "    keras.layers.Dropout(0.2),  # Dropout for regularization\n",
        "    keras.layers.BatchNormalization(),  # Batch normalization\n",
        "    keras.layers.Dense(1, activation='sigmoid')  # Output layer for binary classification\n",
        "])\n",
        "\n",
        "# Compile the model with optimizer, loss function, and custom metrics\n",
        "model.compile(optimizer='adam',\n",
        "              loss='binary_crossentropy',\n",
        "              metrics=['accuracy', recall_m, precision_m, f1_score_m])\n",
        "\n",
        "# Callbacks for early stopping and saving the best model\n",
        "checkpoint = ModelCheckpoint(filepath=\"best_model.keras\", monitor='val_accuracy', mode='max', save_best_only=True, verbose=1)\n",
        "early_stop = EarlyStopping(monitor='val_loss', patience=5, mode='min', verbose=1, restore_best_weights=True)\n",
        "\n",
        "# Train the model on the scaled training data\n",
        "train = model.fit(X_train_scaled, y_train,\n",
        "                  epochs=2000,\n",
        "                  batch_size=128,\n",
        "                  validation_split=0.2,\n",
        "                  callbacks=[early_stop, checkpoint],\n",
        "                  verbose=2)\n",
        "\n",
        "# Load the best model from the checkpoint after training\n",
        "best_model = keras.models.load_model('best_model.keras',\n",
        "                                     custom_objects={'recall_m': recall_m, 'precision_m': precision_m, 'f1_score_m': f1_score_m})\n",
        "\n",
        "# Evaluate the best model on the scaled testing data\n",
        "best_model.evaluate(X_test_scaled, y_test)\n",
        "\n",
        "# Optionally, save the best model to another file if needed\n",
        "best_model.save('NN_TF_with_Keras_best')"
      ],
      "metadata": {
        "colab": {
          "base_uri": "https://localhost:8080/"
        },
        "id": "vZACfmGauU8O",
        "outputId": "d9698b7d-1eb2-4045-ec4c-3113febd509f"
      },
      "execution_count": null,
      "outputs": [
        {
          "output_type": "stream",
          "name": "stdout",
          "text": [
            "Epoch 1/2000\n",
            "\n",
            "Epoch 1: val_accuracy improved from -inf to 0.90031, saving model to best_model.keras\n",
            "24357/24357 - 66s - 3ms/step - accuracy: 0.9179 - f1_score_m: 0.8877 - loss: 0.2147 - precision_m: 0.9071 - recall_m: 0.8717 - val_accuracy: 0.9003 - val_f1_score_m: 0.9473 - val_loss: 0.2204 - val_precision_m: 1.0000 - val_recall_m: 0.9003\n",
            "Epoch 2/2000\n",
            "\n",
            "Epoch 2: val_accuracy improved from 0.90031 to 0.92624, saving model to best_model.keras\n",
            "24357/24357 - 84s - 3ms/step - accuracy: 0.9328 - f1_score_m: 0.9080 - loss: 0.1810 - precision_m: 0.9261 - recall_m: 0.8929 - val_accuracy: 0.9262 - val_f1_score_m: 0.9615 - val_loss: 0.1552 - val_precision_m: 1.0000 - val_recall_m: 0.9262\n",
            "Epoch 3/2000\n",
            "\n",
            "Epoch 3: val_accuracy did not improve from 0.92624\n",
            "24357/24357 - 57s - 2ms/step - accuracy: 0.9345 - f1_score_m: 0.9105 - loss: 0.1763 - precision_m: 0.9280 - recall_m: 0.8958 - val_accuracy: 0.9225 - val_f1_score_m: 0.9595 - val_loss: 0.1656 - val_precision_m: 1.0000 - val_recall_m: 0.9224\n",
            "Epoch 4/2000\n",
            "\n",
            "Epoch 4: val_accuracy improved from 0.92624 to 0.92696, saving model to best_model.keras\n",
            "24357/24357 - 68s - 3ms/step - accuracy: 0.9354 - f1_score_m: 0.9117 - loss: 0.1740 - precision_m: 0.9287 - recall_m: 0.8975 - val_accuracy: 0.9270 - val_f1_score_m: 0.9619 - val_loss: 0.1623 - val_precision_m: 1.0000 - val_recall_m: 0.9270\n",
            "Epoch 5/2000\n",
            "\n",
            "Epoch 5: val_accuracy did not improve from 0.92696\n",
            "24357/24357 - 73s - 3ms/step - accuracy: 0.9356 - f1_score_m: 0.9120 - loss: 0.1729 - precision_m: 0.9288 - recall_m: 0.8980 - val_accuracy: 0.9267 - val_f1_score_m: 0.9618 - val_loss: 0.1577 - val_precision_m: 1.0000 - val_recall_m: 0.9267\n",
            "Epoch 6/2000\n",
            "\n",
            "Epoch 6: val_accuracy did not improve from 0.92696\n",
            "24357/24357 - 58s - 2ms/step - accuracy: 0.9367 - f1_score_m: 0.9135 - loss: 0.1708 - precision_m: 0.9299 - recall_m: 0.8998 - val_accuracy: 0.9251 - val_f1_score_m: 0.9609 - val_loss: 0.1677 - val_precision_m: 1.0000 - val_recall_m: 0.9251\n",
            "Epoch 7/2000\n",
            "\n",
            "Epoch 7: val_accuracy improved from 0.92696 to 0.93066, saving model to best_model.keras\n",
            "24357/24357 - 59s - 2ms/step - accuracy: 0.9372 - f1_score_m: 0.9143 - loss: 0.1697 - precision_m: 0.9305 - recall_m: 0.9007 - val_accuracy: 0.9307 - val_f1_score_m: 0.9639 - val_loss: 0.1501 - val_precision_m: 1.0000 - val_recall_m: 0.9307\n",
            "Epoch 8/2000\n",
            "\n",
            "Epoch 8: val_accuracy improved from 0.93066 to 0.93163, saving model to best_model.keras\n",
            "24357/24357 - 57s - 2ms/step - accuracy: 0.9372 - f1_score_m: 0.9143 - loss: 0.1694 - precision_m: 0.9306 - recall_m: 0.9006 - val_accuracy: 0.9316 - val_f1_score_m: 0.9645 - val_loss: 0.1469 - val_precision_m: 1.0000 - val_recall_m: 0.9316\n",
            "Epoch 9/2000\n",
            "\n",
            "Epoch 9: val_accuracy did not improve from 0.93163\n",
            "24357/24357 - 57s - 2ms/step - accuracy: 0.9375 - f1_score_m: 0.9146 - loss: 0.1687 - precision_m: 0.9309 - recall_m: 0.9010 - val_accuracy: 0.9243 - val_f1_score_m: 0.9605 - val_loss: 0.1614 - val_precision_m: 1.0000 - val_recall_m: 0.9243\n",
            "Epoch 10/2000\n",
            "\n",
            "Epoch 10: val_accuracy did not improve from 0.93163\n",
            "24357/24357 - 82s - 3ms/step - accuracy: 0.9380 - f1_score_m: 0.9153 - loss: 0.1679 - precision_m: 0.9312 - recall_m: 0.9021 - val_accuracy: 0.9288 - val_f1_score_m: 0.9629 - val_loss: 0.1527 - val_precision_m: 1.0000 - val_recall_m: 0.9288\n",
            "Epoch 11/2000\n",
            "\n",
            "Epoch 11: val_accuracy did not improve from 0.93163\n",
            "24357/24357 - 81s - 3ms/step - accuracy: 0.9380 - f1_score_m: 0.9154 - loss: 0.1678 - precision_m: 0.9314 - recall_m: 0.9020 - val_accuracy: 0.9270 - val_f1_score_m: 0.9619 - val_loss: 0.1626 - val_precision_m: 1.0000 - val_recall_m: 0.9270\n",
            "Epoch 12/2000\n",
            "\n",
            "Epoch 12: val_accuracy did not improve from 0.93163\n",
            "24357/24357 - 92s - 4ms/step - accuracy: 0.9384 - f1_score_m: 0.9158 - loss: 0.1667 - precision_m: 0.9318 - recall_m: 0.9025 - val_accuracy: 0.9278 - val_f1_score_m: 0.9624 - val_loss: 0.1506 - val_precision_m: 1.0000 - val_recall_m: 0.9278\n",
            "Epoch 13/2000\n",
            "\n",
            "Epoch 13: val_accuracy did not improve from 0.93163\n",
            "24357/24357 - 57s - 2ms/step - accuracy: 0.9386 - f1_score_m: 0.9161 - loss: 0.1666 - precision_m: 0.9319 - recall_m: 0.9029 - val_accuracy: 0.9204 - val_f1_score_m: 0.9584 - val_loss: 0.1782 - val_precision_m: 1.0000 - val_recall_m: 0.9204\n",
            "Epoch 13: early stopping\n",
            "Restoring model weights from the end of the best epoch: 8.\n",
            "\u001b[1m15242/15242\u001b[0m \u001b[32m━━━━━━━━━━━━━━━━━━━━\u001b[0m\u001b[37m\u001b[0m \u001b[1m31s\u001b[0m 2ms/step - accuracy: 0.9671 - f1_score_m: 0.0221 - loss: 0.1195 - precision_m: 0.0188 - recall_m: 0.0306\n"
          ]
        },
        {
          "output_type": "stream",
          "name": "stderr",
          "text": [
            "WARNING:absl:You are saving your model as an HDF5 file via `model.save()` or `keras.saving.save_model(model)`. This file format is considered legacy. We recommend using instead the native Keras format, e.g. `model.save('my_model.keras')` or `keras.saving.save_model(model, 'my_model.keras')`. \n"
          ]
        }
      ]
    },
    {
      "cell_type": "code",
      "source": [
        "# Load the saved model\n",
        "#model = load_model('NN_TF_with_Keras.h5')\n",
        "# Model is now loaded and can be used for further inference or training\n",
        "#print(\"Model loaded successfully!\")"
      ],
      "metadata": {
        "trusted": true,
        "id": "NopIBB2vdIS2"
      },
      "execution_count": null,
      "outputs": []
    },
    {
      "cell_type": "code",
      "source": [
        "# print the confusion matrix and other performance metrics after evaluation\n",
        "y_pred = model.predict(X_test_scaled)\n",
        "y_pred_classes = (y_pred > 0.5).astype(\"int32\")\n",
        "\n",
        "# Confusion matrix and other metrics\n",
        "conf_matrix = confusion_matrix(y_test, y_pred_classes)\n",
        "accuracy = accuracy_score(y_test, y_pred_classes)\n",
        "precision = precision_score(y_test, y_pred_classes)\n",
        "recall = recall_score(y_test, y_pred_classes)\n",
        "f1 = f1_score(y_test, y_pred_classes)\n",
        "\n",
        "print(f\"Confusion Matrix:\\n{conf_matrix}\")\n",
        "print(f\"Accuracy: {accuracy}\")\n",
        "print(f\"Precision: {precision}\")\n",
        "print(f\"Recall: {recall}\")\n",
        "print(f\"F1 Score: {f1}\")"
      ],
      "metadata": {
        "trusted": true,
        "id": "1MzxxlqYdIS2",
        "colab": {
          "base_uri": "https://localhost:8080/"
        },
        "outputId": "f258914b-1db3-4099-fc81-a31db582c907"
      },
      "execution_count": null,
      "outputs": [
        {
          "output_type": "stream",
          "name": "stdout",
          "text": [
            "\u001b[1m15242/15242\u001b[0m \u001b[32m━━━━━━━━━━━━━━━━━━━━\u001b[0m\u001b[37m\u001b[0m \u001b[1m21s\u001b[0m 1ms/step\n",
            "Confusion Matrix:\n",
            "[[471351  15778]\n",
            " [   159    450]]\n",
            "Accuracy: 0.9673246702122861\n",
            "Precision: 0.02772984964259305\n",
            "Recall: 0.7389162561576355\n",
            "F1 Score: 0.05345370315376849\n"
          ]
        }
      ]
    },
    {
      "cell_type": "markdown",
      "source": [
        "## GNN for fraud detection:\n",
        "Creating a multigraph for fraud detection using transaction data and applying a Graph Neural Network (GNN) on the edge list can be done in the following steps:\n",
        "\n",
        "1- Prepare the transaction data: Collect and organize the transaction data into a format that can be used to create the edges of the multigraph. For example, each transaction could be represented as a tuple (node1, node2, attributes), where node1 and node2 represent the sender and receiver of the transaction, and attributes is a dictionary containing properties such as the amount, timestamp, and transaction type.\n",
        "\n",
        "2- Create the multigraph: Use the transaction data to create a multigraph using the NetworkX library. The add_edge() method can be used to add edges to the multigraph, where each edge represents a transaction.\n",
        "\n",
        "3- Extract the edges list and their features: Use the edges() method of the multigraph to extract the edges list and their features, which will be used as input to the GNN.\n",
        "\n",
        "4- Apply a GNN on the edge list: Use a GNN library such as PyTorch Geometric, Deep Graph Library (DGL) or Spektral to apply a GNN on the edge list. The GNN will learn representations of the edges in the multigraph and use them to classify the edges as fraudulent or non-fraudulent.\n",
        "\n",
        "5- Evaluation: To evaluate the performance of the GNN, you can split the data into train and test sets, and use the test set to evaluate the accuracy, precision, recall, and F1-score of the model."
      ],
      "metadata": {
        "id": "usW2PCvodIS2"
      }
    },
    {
      "cell_type": "markdown",
      "source": [
        "## Graph construction¶\n",
        "When constructing a graph with transaction edges between Card and merchant_name, the first step is to identify the nodes in the graph. In this case, the Card and merchant_name represent the nodes in the graph. Each Card represents a unique credit card and each merchant_name represents a unique merchant. These nodes can be created by extracting the Card and merchant_name information from the tabular data and storing them in separate lists.\n",
        "\n",
        "Once the nodes have been identified, the next step is to create edges between them. These edges represent the transactions that have taken place between a Card and a merchant_name. To create the edges, a list of transactions is created and for each transaction, an edge is created between the Card and merchant_name."
      ],
      "metadata": {
        "id": "b0oWqnGYdIS2"
      }
    },
    {
      "cell_type": "code",
      "source": [
        "import pandas as pd\n",
        "import numpy as np\n",
        "import matplotlib.pyplot as plt\n",
        "from collections import Counter\n",
        "from sklearn.model_selection import train_test_split\n",
        "from sklearn.preprocessing import LabelEncoder\n",
        "import networkx as nx\n",
        "import torch\n",
        "import torch.nn as nn\n",
        "import torch.nn.functional as F"
      ],
      "metadata": {
        "trusted": true,
        "id": "pC2gwVMXdIS2"
      },
      "execution_count": null,
      "outputs": []
    },
    {
      "cell_type": "markdown",
      "source": [
        "## Method 1\n",
        "We are creating an empty multigraph object called G using the nx.MultiGraph() function from the NetworkX library. Then we add nodes to the graph for each unique Card and merchant_name from the dataframe df.\n",
        "\n",
        "The add_nodes_from method is used to add nodes to the graph, it takes an iterable as input and creates a node for each element in the iterable. The df[\"Card\"].unique() will return a list of unique Cards in the dataframe, and the df[\"Merchant Name\"].unique will return a list of all the merchant names in the dataframe.\n",
        "\n",
        "The type attribute is added to each node, it is used to differentiate between Card and merchant_name nodes. This will help later on when we want to analyze the graph."
      ],
      "metadata": {
        "id": "VJ8xNgEldIS3"
      }
    },
    {
      "cell_type": "markdown",
      "source": [
        "##### Why did we use a multigraph and not graph?\n",
        "\n",
        "The same user (Card) can buy from the same merchant (Merchant Name) multiple times, so we can have multiple edges between the user and the merchant and for this reason we used multigraph instead of graph"
      ],
      "metadata": {
        "id": "WuEOhdfQdIS3"
      }
    },
    {
      "cell_type": "code",
      "source": [
        "# Create an empty graph\n",
        "G = nx.MultiGraph()\n",
        "\n",
        "# Add nodes to the graph for each unique Card, merchant_name\n",
        "G.add_nodes_from(df[\"Card\"].unique(), type='Card')\n",
        "G.add_nodes_from(df[\"Merchant Name\"].unique(), type='merchant_name')"
      ],
      "metadata": {
        "trusted": true,
        "id": "oFrAOAUBdIS3"
      },
      "execution_count": null,
      "outputs": []
    },
    {
      "cell_type": "markdown",
      "source": [
        "The code below adding edges and properties to the edges of a graph. The code iterates through each row of the dataframe, df, and creates a variable for each property then assign it to the edge between the Card and merchant_name of that row."
      ],
      "metadata": {
        "id": "nsHtOe8NdIS3"
      }
    },
    {
      "cell_type": "code",
      "source": [
        "# Add edges and properties to the edges\n",
        "for _, row in df.iterrows():\n",
        "    # Create a variable for each properties for each edge\n",
        "\n",
        "        year = row[\"Year\"],\n",
        "        month = row[\"Month\"],\n",
        "        day = row[\"Day\"],\n",
        "        hour = row[\"Hour\"],\n",
        "        minute =row[\"Minute\"],\n",
        "        amount = row[\"Amount\"],\n",
        "        use_chip =  row[\"Use Chip\"],\n",
        "        merchant_city = row[\"Merchant City\"],\n",
        "        errors =  row[\"Errors?\"],\n",
        "        mcc = row['MCC']\n",
        "\n",
        "\n",
        "        G.add_edge(row['Card'], row['Merchant Name'], year = year , month = month , day = day ,\n",
        "              hour = hour , minute = minute , amount = amount , use_chip = use_chip ,\n",
        "              merchant_city = merchant_city , errors = errors , mcc = mcc)"
      ],
      "metadata": {
        "trusted": true,
        "id": "REswB0W6dIS3"
      },
      "execution_count": null,
      "outputs": []
    },
    {
      "cell_type": "code",
      "source": [
        "# Get the number of nodes and edges in the graph\n",
        "num_nodes = G.number_of_nodes()\n",
        "num_edges = G.number_of_edges()\n",
        "\n",
        "# Print the number of nodes and edges\n",
        "print(\"Number of nodes:\", num_nodes)\n",
        "print(\"Number of edges:\", num_edges)"
      ],
      "metadata": {
        "trusted": true,
        "id": "KDKwbAl5dIS3"
      },
      "execution_count": null,
      "outputs": []
    },
    {
      "cell_type": "code",
      "source": [
        "# Convert the graph to an adjacency matrix\n",
        "adj_matrix = nx.adjacency_matrix(G).todense()\n",
        "adj_matrix.shape"
      ],
      "metadata": {
        "trusted": true,
        "id": "eobzvXVAdIS3"
      },
      "execution_count": null,
      "outputs": []
    },
    {
      "cell_type": "markdown",
      "source": [
        "We will retrieve the properties of a small sample of nodes in our graph (G) and print their properties."
      ],
      "metadata": {
        "id": "MEYTh6BPdIS3"
      }
    },
    {
      "cell_type": "code",
      "source": [
        "# Get a small sample of the nodes in the graph\n",
        "sample_nodes = list(G.nodes())[:10]\n",
        "\n",
        "# Retrieve the properties of the sample nodes\n",
        "node_properties = nx.get_node_attributes(G, 'type')\n",
        "\n",
        "# Print the properties of the sample nodes\n",
        "for node in sample_nodes:\n",
        "    print(f\"Node: {node}, Properties: {node_properties[node]}\")"
      ],
      "metadata": {
        "trusted": true,
        "id": "dn-uSgp6dIS3"
      },
      "execution_count": null,
      "outputs": []
    },
    {
      "cell_type": "code",
      "source": [
        "sample_size = 5\n",
        "for i, edge in enumerate(G.edges()):\n",
        "    print(G.get_edge_data(*edge))\n",
        "    if i >= sample_size - 1:\n",
        "        break"
      ],
      "metadata": {
        "trusted": true,
        "id": "3tO8RFV7dIS3"
      },
      "execution_count": null,
      "outputs": []
    },
    {
      "cell_type": "markdown",
      "source": [
        "We will retrieve the properties of a small sample of edges in our graph (G) and print their properties."
      ],
      "metadata": {
        "id": "lJz8W3YkdIS3"
      }
    },
    {
      "cell_type": "code",
      "source": [
        "# Retrieve the properties errors of all the edges\n",
        "edge_properties = nx.get_edge_attributes(G, 'errors')\n",
        "\n",
        "# Count the number of edges by property value\n",
        "edge_count_by_property = Counter(edge_properties.values())\n",
        "\n",
        "# Print the count of edges by property value\n",
        "for property_value, count in edge_count_by_property.items():\n",
        "    print(f\"Property value: {property_value}, Count: {count}\")"
      ],
      "metadata": {
        "trusted": true,
        "id": "0jpCT3eIdIS3"
      },
      "execution_count": null,
      "outputs": []
    },
    {
      "cell_type": "code",
      "source": [
        "# Prepare the data for input into the model\n",
        "edge_list = list(G.edges(data=True))\n",
        "list(edge_list[i][2].values())"
      ],
      "metadata": {
        "trusted": true,
        "id": "77ffV4RIdIS4"
      },
      "execution_count": null,
      "outputs": []
    },
    {
      "cell_type": "markdown",
      "source": [
        "We define a PyTorch neural network model called \"FraudGNN\" which is a type of Graph Neural Network. The model is a simple feedforward neural network with two fully connected (Linear) layers. The first layer has input_dim number of input units and hidden_dim number of output units, while the second layer has hidden_dim number of input units and 1 output unit. The forward function of the model applies the linear layers to the input tensor \"x\" and applies a ReLU activation function to the output of the first linear layer.\n",
        "\n",
        "We also prepare data for input into the model. We define the variable \"edge_list\" which is a list of edges and their associated data in a graph G. Then we create an empty list called \"x\" and iterates over each edge in the edge_list. For each edge, it extracts the values of the edge data, converts them to floats if needed, and append them to the list \"x\". Finally, we convert the list \"x\" to a PyTorch tensor with float datatype, which is ready to be input into the FraudGNN model."
      ],
      "metadata": {
        "id": "uD7T37OodIS4"
      }
    },
    {
      "cell_type": "code",
      "source": [
        "class FraudGNN(nn.Module):\n",
        "    def __init__(self, input_dim, hidden_dim):\n",
        "        super(FraudGNN, self).__init__()\n",
        "        self.fc1 = nn.Linear(input_dim, hidden_dim)\n",
        "        self.fc2 = nn.Linear(hidden_dim, 1)\n",
        "\n",
        "    def forward(self, x):\n",
        "        x = self.fc1(x)\n",
        "        x = F.relu(x)\n",
        "        x = self.fc2(x)\n",
        "        return x.squeeze(-1)"
      ],
      "metadata": {
        "trusted": true,
        "id": "Oj7uOzu3dIS4"
      },
      "execution_count": null,
      "outputs": []
    },
    {
      "cell_type": "code",
      "source": [
        "# Prepare the data for input into the model\n",
        "#edge_list = list(G.edges(data=True))\n",
        "#x = []\n",
        "#for edge in edge_list:\n",
        "#    edge_values = list(edge[2].values())\n",
        "#    edge_values = [float(i[0]) if type(i) == tuple and type(i[0]) == str else i[0] if type(i) == tuple else i for i in edge_values]\n",
        "#    x.append(edge_values)\n",
        "#x = torch.tensor(x, dtype=torch.float)\n",
        "#target = torch.tensor(df['Is Fraud?'].values, dtype=torch.float)\n",
        "#from sklearn.model_selection import train_test_split\n",
        "#x_train, x_valid, y_train, y_valid =  train_test_split(x, target, test_size=0.2, stratify=target)\n",
        "#x_valid, x_test, y_valid, y_test =  train_test_split(x_valid, y_valid, test_size=0.5, stratify=y_valid)"
      ],
      "metadata": {
        "trusted": true,
        "id": "nNhtDFMkdIS4"
      },
      "execution_count": null,
      "outputs": []
    },
    {
      "cell_type": "code",
      "source": [
        "import torch\n",
        "from sklearn.model_selection import train_test_split\n",
        "\n",
        "# Convert X_train_resampled and y_train_resampled to tensors\n",
        "x_train_resampled = torch.tensor(X_train_resampled, dtype=torch.float)\n",
        "y_train_resampled = torch.tensor(y_train_resampled.values, dtype=torch.float)\n",
        "\n",
        "# Convert X_test and y_test to tensors\n",
        "x_test_tensor = torch.tensor(X_test, dtype=torch.float)\n",
        "y_test_tensor = torch.tensor(y_test.values, dtype=torch.float)\n",
        "\n",
        "# Now let's split the validation set from the resampled training set\n",
        "x_train, x_valid, y_train, y_valid = train_test_split(\n",
        "    x_train_resampled, y_train_resampled, test_size=0.2, stratify=y_train_resampled\n",
        ")"
      ],
      "metadata": {
        "trusted": true,
        "id": "ghYddN1HdIS4"
      },
      "execution_count": null,
      "outputs": []
    },
    {
      "cell_type": "code",
      "source": [
        "# Define the model\n",
        "input_dim = len(x[0])\n",
        "hidden_dim = 16\n",
        "model = FraudGNN(input_dim, hidden_dim)\n",
        "num_epochs=2000\n",
        "\n",
        "# Define the loss function and optimizer\n",
        "criterion = nn.BCEWithLogitsLoss()\n",
        "optimizer = torch.optim.Adam(model.parameters(), lr=0.01)"
      ],
      "metadata": {
        "trusted": true,
        "id": "vlcIxI4xdIS4"
      },
      "execution_count": null,
      "outputs": []
    },
    {
      "cell_type": "code",
      "source": [
        "import random\n",
        "\n",
        "# Set the seed value all over the place to make this reproducible.\n",
        "seed_val = 42\n",
        "\n",
        "random.seed(seed_val)\n",
        "np.random.seed(seed_val)\n",
        "torch.manual_seed(seed_val)\n",
        "torch.cuda.manual_seed_all(seed_val)"
      ],
      "metadata": {
        "trusted": true,
        "id": "aDjB679YdIS4"
      },
      "execution_count": null,
      "outputs": []
    },
    {
      "cell_type": "code",
      "source": [
        "#import matplotlib.pyplot as plt\n",
        "\n",
        "#train_losses = []\n",
        "#val_losses = []\n",
        "\n",
        "# Train the model\n",
        "#for i in range(num_epochs):\n",
        "    # Forward pass\n",
        "#    output = model(x_train)\n",
        "    # Compute the training loss\n",
        "#    loss = criterion(output, y_train)\n",
        "\n",
        "    # Compute accuracy for training set\n",
        "#    predictions = torch.sigmoid(output)\n",
        "#    predicted_labels = (predictions > 0.5).float()\n",
        "#    accuracy = torch.mean((predicted_labels == y_train).float())\n",
        "\n",
        "#    if i % 20 == 0:\n",
        "#        print(f'Epoch: {i}, Train Loss: {loss.item()}, Train Accuracy: {accuracy.item()}')\n",
        "\n",
        "        # Validation forward pass\n",
        "#        val_output = model(x_valid)\n",
        "#        val_loss = criterion(val_output, y_valid)\n",
        "#        val_losses.append(val_loss.item())\n",
        "\n",
        "    # Zero the gradients\n",
        "#    optimizer.zero_grad()\n",
        "    # Perform backpropagation\n",
        "#    loss.backward()\n",
        "    # Update the parameters\n",
        "#    optimizer.step()\n",
        "\n",
        "#    train_losses.append(loss.item())"
      ],
      "metadata": {
        "trusted": true,
        "id": "Qj74u31edIS4"
      },
      "execution_count": null,
      "outputs": []
    },
    {
      "cell_type": "code",
      "source": [
        "import torch\n",
        "import matplotlib.pyplot as plt\n",
        "import os\n",
        "\n",
        "# Define the ModelCheckpoint and EarlyStopping parameters\n",
        "best_val_accuracy = 0.0\n",
        "patience_counter = 0\n",
        "patience = 5  # Number of epochs to wait for improvement before early stopping\n",
        "best_model_path = \"best_model.pt\"  # Save the model in PyTorch format\n",
        "\n",
        "train_losses = []\n",
        "val_losses = []\n",
        "\n",
        "# Training loop\n",
        "for i in range(num_epochs):\n",
        "    model.train()  # Set the model to training mode\n",
        "\n",
        "    # Forward pass\n",
        "    output = model(x_train)\n",
        "    # Compute the training loss\n",
        "    loss = criterion(output, y_train)\n",
        "\n",
        "    # Compute accuracy for training set\n",
        "    predictions = torch.sigmoid(output)\n",
        "    predicted_labels = (predictions > 0.5).float()\n",
        "    accuracy = torch.mean((predicted_labels == y_train).float())\n",
        "\n",
        "    # Zero the gradients\n",
        "    optimizer.zero_grad()\n",
        "    # Perform backpropagation\n",
        "    loss.backward()\n",
        "    # Update the parameters\n",
        "    optimizer.step()\n",
        "\n",
        "    train_losses.append(loss.item())\n",
        "\n",
        "    # Validation step\n",
        "    model.eval()  # Set the model to evaluation mode (no gradients)\n",
        "    with torch.no_grad():\n",
        "        val_output = model(x_valid)\n",
        "        val_loss = criterion(val_output, y_valid)\n",
        "        val_losses.append(val_loss.item())\n",
        "\n",
        "        # Calculate validation accuracy\n",
        "        val_predictions = torch.sigmoid(val_output)\n",
        "        val_predicted_labels = (val_predictions > 0.5).float()\n",
        "        val_accuracy = torch.mean((val_predicted_labels == y_valid).float())\n",
        "\n",
        "        # Print loss and accuracy at regular intervals\n",
        "        if i % 20 == 0:\n",
        "            print(f'Epoch: {i}, Train Loss: {loss.item()}, Train Accuracy: {accuracy.item()}, Val Loss: {val_loss.item()}, Val Accuracy: {val_accuracy.item()}')\n",
        "\n",
        "        # Checkpoint: Save the model if the validation accuracy improves\n",
        "        if val_accuracy > best_val_accuracy:\n",
        "            print(f'Validation accuracy improved from {best_val_accuracy:.4f} to {val_accuracy:.4f}. Saving model...')\n",
        "            best_val_accuracy = val_accuracy\n",
        "            torch.save(model.state_dict(), best_model_path)  # Save the best model\n",
        "            patience_counter = 0  # Reset patience counter\n",
        "        else:\n",
        "            patience_counter += 1\n",
        "\n",
        "    # Early stopping: Stop training if the validation loss does not improve for 'patience' epochs\n",
        "    if patience_counter >= patience:\n",
        "        print(f'Early stopping after {i+1} epochs. Validation loss did not improve for {patience} epochs.')\n",
        "        break\n",
        "\n",
        "# Load the best model\n",
        "model.load_state_dict(torch.load(best_model_path))"
      ],
      "metadata": {
        "trusted": true,
        "id": "HsvHGa03dIS4"
      },
      "execution_count": null,
      "outputs": []
    },
    {
      "cell_type": "code",
      "source": [
        "# save the module\n",
        "torch.save(model, 'best_full_model.pth')"
      ],
      "metadata": {
        "trusted": true,
        "id": "4ynew9uDdIS4"
      },
      "execution_count": null,
      "outputs": []
    },
    {
      "cell_type": "code",
      "source": [
        "# load the module\n",
        "#model = YourModelClass(*args, **kwargs)\n",
        "#model.load_state_dict(torch.load('best_model.pt'))\n"
      ],
      "metadata": {
        "trusted": true,
        "id": "K_sfdDITdIS5"
      },
      "execution_count": null,
      "outputs": []
    },
    {
      "cell_type": "code",
      "source": [
        "plt.figure(figsize=(10, 5))\n",
        "epochs_to_plot = range(0, num_epochs, 20)\n",
        "plt.plot(epochs_to_plot, train_losses[:len(epochs_to_plot)], label='Train Loss')\n",
        "plt.plot(epochs_to_plot, val_losses, label='Validation Loss')\n",
        "plt.xlabel('Epoch')\n",
        "plt.ylabel('Loss')\n",
        "plt.title('Training and Validation Loss Over Time')\n",
        "plt.legend()\n",
        "plt.show()"
      ],
      "metadata": {
        "trusted": true,
        "id": "koUX7IafdIS5"
      },
      "execution_count": null,
      "outputs": []
    },
    {
      "cell_type": "code",
      "source": [
        "# Make predictions on the test set\n",
        "model.eval()  # Set the model to evaluation mode\n",
        "with torch.no_grad():  # Disable gradient computation for inference\n",
        "    test_output = model(x_test)\n",
        "    test_predictions = torch.sigmoid(test_output)\n",
        "    predicted_labels = (test_predictions > 0.5).float()\n",
        "\n",
        "# Calculate accuracy on the test set\n",
        "test_accuracy = torch.mean((predicted_labels == y_test).float())\n",
        "print(f'Test Accuracy: {test_accuracy.item()}')"
      ],
      "metadata": {
        "trusted": true,
        "id": "oOIcPNXVdIS5"
      },
      "execution_count": null,
      "outputs": []
    },
    {
      "cell_type": "markdown",
      "source": [
        "## Method 2\n",
        "In this part we will base our work on the paper Inductive Graph Representation Learning for fraud detection written by RafaëlVan Belle, Charles Van Damme, Hendrik Tytgat and JochenDe Weerdt.\n",
        "\n",
        "Charles has created a python library with the name of inductiveGRL for the experimental setup of their paper.\n",
        "\n",
        "Library overview :\n",
        "\n",
        "1- Transaction Data Any dataset that can be transformed into a graph can be used in our experimental setup. For our research, we used a real-life dataset to construct credit card transaction networks containing millions of transactions. This dataset includes information on the following features: anonymized identification of clients and merchants, merchant category code, country, monetary amount, time, acceptance, and fraud label. This real-life dataset is highly imbalanced and contains only 0.65% fraudulent transactions. Note that the demo data in this repository is artificaly generated for demonstration purposes. The Timeframes component derives the different timeframes for a rolling window setup given a step and window size.\n",
        "\n",
        "2- Graph Construction The GraphConstruction component constructs the graphs that will be used by graph representation learners (e.g. FI-GRL and GraphSAGE) to learn node embeddings. We designed the credit card transaction networks as heterogeneous tripartite graphs containing client, merchant and transaction nodes. Because of this tripartite setup, representations can be learned for the transaction nodes. Only the transaction nodes are configured with node features.\n",
        "\n",
        "3- GraphSAGE The HinSAGE code deploys a supervised, heterogeneous implementation of the GraphSAGE framework called HinSAGE, to learn embeddings of the transaction nodes in the aforementioned graphs.\n",
        "\n",
        "4- FI-GRL The FIGRL code learns embeddings of the transaction nodes in the aforementioned graphs using the Fast Inductive Graph Representation Learning Framework. We call the Matlab implementation of FI-GRL from our Jupyter notebooks, which requires an appropriate installation of matlab.engine in the same folder as the notebooks. If you wish to run FI-GRL from Python, please run the following command in Matlab:\n",
        "\n",
        "cd (fullfile(matlabroot,'extern','engines','python')) system('python setup.py install')\n",
        "\n",
        "This will generate a folder in matlabroot\\extern\\engines\\python\\build\\lib called 'matlab' please copy this folder and place it on the same location as the notebook from which you want to call matlab.engine. If you don't know your matlab root, running 'matlabroot' in Matlab will return the appropriate path.\n",
        "\n",
        "1- Classifier The penultimate component in our pipeline uses the transaction node embeddings to classify the transaction nodes as fraudulent or legitimate. We chose to rely on XGBoost as a classification model, but other classifiers can easily be implemented.\n",
        "\n",
        "2- Evaluation The Evaluation component contains functions for the Lift score, Lift curve and precision-recall curve. We focused on these evaluation metrics given the highly imbalanced nature of our dataset. However, this code can easily be extended to contain other evaluation metrics such as ROC plots."
      ],
      "metadata": {
        "id": "WWbSI_VmdIS5"
      }
    },
    {
      "cell_type": "code",
      "source": [
        "#library installation\n",
        "!pip install inductiveGRL"
      ],
      "metadata": {
        "trusted": true,
        "id": "t6poZFKHdIS5"
      },
      "execution_count": null,
      "outputs": []
    },
    {
      "cell_type": "code",
      "source": [
        "# imports\n",
        "from inductiveGRL.graphconstruction import GraphConstruction\n",
        "from inductiveGRL.hinsage import HinSAGE_Representation_Learner"
      ],
      "metadata": {
        "trusted": true,
        "id": "Khz-UUgXdIS5"
      },
      "execution_count": null,
      "outputs": []
    },
    {
      "cell_type": "code",
      "source": [
        "# Global parameters:\n",
        "embedding_size = 64\n",
        "add_additional_data = True"
      ],
      "metadata": {
        "trusted": true,
        "id": "V7OVoOHadIS5"
      },
      "execution_count": null,
      "outputs": []
    },
    {
      "cell_type": "code",
      "source": [
        "train_data = train_df\n",
        "inductive_data = test_df"
      ],
      "metadata": {
        "trusted": true,
        "id": "SLY9npS4dIS5"
      },
      "execution_count": null,
      "outputs": []
    },
    {
      "cell_type": "code",
      "source": [
        "print('The distribution of fraud for the train data is:\\n', train_data['Is Fraud?'].value_counts())\n",
        "print('The distribution of fraud for the inductive data is:\\n', inductive_data['Is Fraud?'].value_counts())"
      ],
      "metadata": {
        "trusted": true,
        "id": "nYBrqmtOdIS5"
      },
      "execution_count": null,
      "outputs": []
    },
    {
      "cell_type": "code",
      "source": [
        "transaction_node_data = train_data.drop(\"Card\", axis=1).drop(\"Merchant Name\", axis=1).drop('Is Fraud?', axis=1)\n",
        "client_node_data = pd.DataFrame([1]*len(train_data[\"Card\"].unique())).set_index(train_data[\"Card\"].unique())\n",
        "merchant_node_data = pd.DataFrame([1]*len(train_data[\"Merchant Name\"].unique())).set_index(train_data[\"Merchant Name\"].unique())\n",
        "\n",
        "nodes = {\"client\":train_data.Card, \"merchant\":train_data[\"Merchant Name\"], \"transaction\":train_data.index}\n",
        "edges = [zip(train_data.Card, train_data.index),zip(train_data[\"Merchant Name\"], train_data.index)]\n",
        "features = {\"transaction\": transaction_node_data, 'client': client_node_data, 'merchant': merchant_node_data}\n",
        "\n",
        "graph = GraphConstruction(nodes, edges, features)\n",
        "S = graph.get_stellargraph()\n",
        "print(S.info())"
      ],
      "metadata": {
        "trusted": true,
        "id": "kg6gknZbdIS6"
      },
      "execution_count": null,
      "outputs": []
    },
    {
      "cell_type": "code",
      "source": [
        "#GraphSAGE parameters\n",
        "#num_samples = [2,32]\n",
        "#embedding_node_type = \"transaction\"\n",
        "\n",
        "#hinsage = HinSAGE_Representation_Learner(embedding_size, num_samples, embedding_node_type)\n",
        "#trained_hinsage_model, train_emb = hinsage.train_hinsage(S, list(train_data.index), train_data['Is Fraud?'], batch_size=5, epochs=10)"
      ],
      "metadata": {
        "trusted": true,
        "id": "6p0DQ6w6dIS6"
      },
      "execution_count": null,
      "outputs": []
    },
    {
      "cell_type": "code",
      "source": [
        "# Define your model checkpoint and early stopping behavior\n",
        "best_val_accuracy = 0.0\n",
        "patience_counter = 0\n",
        "patience = 5  # Number of epochs to wait for improvement before early stopping\n",
        "best_model_path = \"best_model_hinsage.pt\"  # Save the model in PyTorch format\n",
        "\n",
        "train_losses = []\n",
        "val_losses = []\n",
        "\n",
        "# Modify your train_hinsage method or incorporate the validation logic in your main loop\n",
        "for epoch in range(num_epochs):  # Replace with your actual number of epochs\n",
        "    # Train the model\n",
        "    trained_hinsage_model, train_emb = hinsage.train_hinsage(S, list(train_data.index), train_data['Is Fraud?'], batch_size=5, epochs=1)\n",
        "\n",
        "    # Compute training loss and accuracy (assuming train_hinsage returns these, otherwise compute them manually)\n",
        "    train_loss, train_accuracy = hinsage.evaluate(train_data, train_emb)  # This step might depend on how your model works\n",
        "    train_losses.append(train_loss)\n",
        "\n",
        "    # Validation step: evaluate on validation set\n",
        "    val_emb = hinsage.get_embeddings(S, list(val_data.index))  # Obtain embeddings for the validation set\n",
        "    val_loss, val_accuracy = hinsage.evaluate(val_data, val_emb)  # Assuming hinsage has an evaluation method for validation data\n",
        "    val_losses.append(val_loss)\n",
        "\n",
        "    print(f'Epoch: {epoch}, Train Loss: {train_loss}, Train Accuracy: {train_accuracy}, Val Loss: {val_loss}, Val Accuracy: {val_accuracy}')\n",
        "\n",
        "    # Checkpoint: Save the model if the validation accuracy improves\n",
        "    if val_accuracy > best_val_accuracy:\n",
        "        print(f'Validation accuracy improved from {best_val_accuracy:.4f} to {val_accuracy:.4f}. Saving model...')\n",
        "        best_val_accuracy = val_accuracy\n",
        "        torch.save(hinsage.state_dict(), best_model_path)  # Save the best model\n",
        "        patience_counter = 0  # Reset patience counter\n",
        "    else:\n",
        "        patience_counter += 1\n",
        "\n",
        "    # Early stopping: Stop training if the validation loss does not improve for 'patience' epochs\n",
        "    if patience_counter >= patience:\n",
        "        print(f'Early stopping after {epoch+1} epochs. Validation loss did not improve for {patience} epochs.')\n",
        "        break\n",
        "\n",
        "# Load the best model (if necessary)\n",
        "hinsage.load_state_dict(torch.load(best_model_path))\n",
        "\n",
        "# After training, you can plot the training and validation losses if needed\n",
        "import matplotlib.pyplot as plt\n",
        "plt.plot(train_losses, label='Train Loss')\n",
        "plt.plot(val_losses, label='Validation Loss')\n",
        "plt.xlabel('Epochs')\n",
        "plt.ylabel('Loss')\n",
        "plt.legend()\n",
        "plt.show()"
      ],
      "metadata": {
        "trusted": true,
        "id": "f3rEZSrwdIS6"
      },
      "execution_count": null,
      "outputs": []
    },
    {
      "cell_type": "code",
      "source": [
        "train_emb"
      ],
      "metadata": {
        "trusted": true,
        "id": "XPKbhHVZdIS6"
      },
      "execution_count": null,
      "outputs": []
    },
    {
      "cell_type": "code",
      "source": [
        "# After training, save the trained model\n",
        "torch.save(hinsage.state_dict(), \"hinsage_trained_model.pt\")\n",
        "print(\"Model saved successfully!\")\n"
      ],
      "metadata": {
        "trusted": true,
        "id": "2bWC3OPRdIS6"
      },
      "execution_count": null,
      "outputs": []
    },
    {
      "cell_type": "code",
      "source": [
        "# To load the saved model\n",
        "#hinsage = HinSAGE_Representation_Learner(embedding_size, num_samples, embedding_node_type)\n",
        "#hinsage.load_state_dict(torch.load(\"hinsage_trained_model.pt\"))\n",
        "#hinsage.eval()  # Set the model to evaluation mode\n",
        "#print(\"Model loaded successfully!\")"
      ],
      "metadata": {
        "trusted": true,
        "id": "oHp56FlAdIS6"
      },
      "execution_count": null,
      "outputs": []
    },
    {
      "cell_type": "markdown",
      "source": [
        "Papers\n",
        "\n",
        "Inductive Graph Representation Learning for fraud detection (paper) : [https://www.sciencedirect.com/science/article/abs/pii/S0957417421017449]\n",
        "\n",
        "Intelligent Financial Fraud Detection Practices: An Investigation : [https://arxiv.org/ftp/arxiv/papers/1510/1510.07165.pdf]\n",
        "\n",
        "Modeling Relational Data with Graph Convolutional Networks : [https://arxiv.org/pdf/1703.06103]\n",
        "\n",
        "For more papers check this github [https://github.com/benedekrozemberczki/awesome-fraud-detection-papers]"
      ],
      "metadata": {
        "id": "7CMv_FIadIS6"
      }
    }
  ]
}